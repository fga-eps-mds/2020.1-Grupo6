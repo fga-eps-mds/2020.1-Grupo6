{
 "cells": [
  {
   "cell_type": "markdown",
   "metadata": {},
   "source": [
    "#### Libraries"
   ]
  },
  {
   "cell_type": "code",
   "execution_count": 18,
   "metadata": {},
   "outputs": [],
   "source": [
    "import pandas as pd\n",
    "import os\n",
    "import json\n",
    "import numpy as np\n",
    "import seaborn as sns"
   ]
  },
  {
   "cell_type": "markdown",
   "metadata": {},
   "source": [
    "#### Setup config"
   ]
  },
  {
   "cell_type": "code",
   "execution_count": 19,
   "metadata": {},
   "outputs": [],
   "source": [
    "ROOT_DIR = \"../\"\n",
    "\n",
    "# Where the datasets are\n",
    "DATA_PATH = os.path.join(ROOT_DIR, \"data\")\n",
    "os.makedirs(DATA_PATH, exist_ok=True)"
   ]
  },
  {
   "cell_type": "markdown",
   "metadata": {},
   "source": [
    "#### Dataframe settings"
   ]
  },
  {
   "cell_type": "code",
   "execution_count": 20,
   "metadata": {},
   "outputs": [],
   "source": [
    "pd.set_option(\"display.max_rows\", None, \"display.max_columns\", None)"
   ]
  },
  {
   "cell_type": "code",
   "execution_count": 21,
   "metadata": {},
   "outputs": [],
   "source": [
    "col_r1 = ['path',\n",
    "          'qualifier',\n",
    "          'reliability_rating',\n",
    "          'complexity',\n",
    "          'functions',\n",
    "          'security_rating',\n",
    "          'comment_lines_density',\n",
    "          'sqale_rating',\n",
    "          'comment_lines',\n",
    "          'ncloc',\n",
    "          'files',\n",
    "          'open_issues',\n",
    "          'bugs',\n",
    "          'test_success_density',\n",
    "          'vulnerabilities',\n",
    "          'duplicated_lines_density']\n",
    "\n",
    "col_r2 = ['path',\n",
    "          'qualifier',\n",
    "          'reliability_rating',\n",
    "          'complexity',\n",
    "          'functions',\n",
    "          'security_rating',\n",
    "          'comment_lines_density',\n",
    "          'sqale_rating',\n",
    "          'comment_lines',\n",
    "          'ncloc',\n",
    "          'files',\n",
    "          'open_issues',\n",
    "          'bugs',\n",
    "          'test_success_density',\n",
    "          'vulnerabilities',\n",
    "          'duplicated_lines_density',\n",
    "          'coverage']"
   ]
  },
  {
   "cell_type": "markdown",
   "metadata": {},
   "source": [
    "## R1"
   ]
  },
  {
   "cell_type": "markdown",
   "metadata": {},
   "source": [
    "#### Back-end"
   ]
  },
  {
   "cell_type": "code",
   "execution_count": 22,
   "metadata": {},
   "outputs": [],
   "source": [
    "back_r1 = json.load(open('../data/back_r1.json'))"
   ]
  },
  {
   "cell_type": "code",
   "execution_count": 23,
   "metadata": {},
   "outputs": [],
   "source": [
    "back_r1_base_component = pd.DataFrame(back_r1['baseComponent']['measures'])"
   ]
  },
  {
   "cell_type": "code",
   "execution_count": 24,
   "metadata": {
    "scrolled": false
   },
   "outputs": [
    {
     "data": {
      "text/html": [
       "<div>\n",
       "<style scoped>\n",
       "    .dataframe tbody tr th:only-of-type {\n",
       "        vertical-align: middle;\n",
       "    }\n",
       "\n",
       "    .dataframe tbody tr th {\n",
       "        vertical-align: top;\n",
       "    }\n",
       "\n",
       "    .dataframe thead th {\n",
       "        text-align: right;\n",
       "    }\n",
       "</style>\n",
       "<table border=\"1\" class=\"dataframe\">\n",
       "  <thead>\n",
       "    <tr style=\"text-align: right;\">\n",
       "      <th></th>\n",
       "      <th>metric</th>\n",
       "      <th>value</th>\n",
       "      <th>bestValue</th>\n",
       "    </tr>\n",
       "  </thead>\n",
       "  <tbody>\n",
       "    <tr>\n",
       "      <th>0</th>\n",
       "      <td>complexity</td>\n",
       "      <td>41</td>\n",
       "      <td>NaN</td>\n",
       "    </tr>\n",
       "    <tr>\n",
       "      <th>1</th>\n",
       "      <td>duplicated_lines_density</td>\n",
       "      <td>0.0</td>\n",
       "      <td>True</td>\n",
       "    </tr>\n",
       "    <tr>\n",
       "      <th>2</th>\n",
       "      <td>functions</td>\n",
       "      <td>35</td>\n",
       "      <td>NaN</td>\n",
       "    </tr>\n",
       "    <tr>\n",
       "      <th>3</th>\n",
       "      <td>sqale_rating</td>\n",
       "      <td>1.0</td>\n",
       "      <td>True</td>\n",
       "    </tr>\n",
       "    <tr>\n",
       "      <th>4</th>\n",
       "      <td>bugs</td>\n",
       "      <td>0</td>\n",
       "      <td>True</td>\n",
       "    </tr>\n",
       "    <tr>\n",
       "      <th>5</th>\n",
       "      <td>ncloc</td>\n",
       "      <td>563</td>\n",
       "      <td>NaN</td>\n",
       "    </tr>\n",
       "    <tr>\n",
       "      <th>6</th>\n",
       "      <td>reliability_rating</td>\n",
       "      <td>1.0</td>\n",
       "      <td>True</td>\n",
       "    </tr>\n",
       "    <tr>\n",
       "      <th>7</th>\n",
       "      <td>security_rating</td>\n",
       "      <td>1.0</td>\n",
       "      <td>True</td>\n",
       "    </tr>\n",
       "    <tr>\n",
       "      <th>8</th>\n",
       "      <td>comment_lines_density</td>\n",
       "      <td>2.8</td>\n",
       "      <td>False</td>\n",
       "    </tr>\n",
       "    <tr>\n",
       "      <th>9</th>\n",
       "      <td>comment_lines</td>\n",
       "      <td>16</td>\n",
       "      <td>NaN</td>\n",
       "    </tr>\n",
       "    <tr>\n",
       "      <th>10</th>\n",
       "      <td>vulnerabilities</td>\n",
       "      <td>0</td>\n",
       "      <td>True</td>\n",
       "    </tr>\n",
       "    <tr>\n",
       "      <th>11</th>\n",
       "      <td>files</td>\n",
       "      <td>14</td>\n",
       "      <td>NaN</td>\n",
       "    </tr>\n",
       "    <tr>\n",
       "      <th>12</th>\n",
       "      <td>open_issues</td>\n",
       "      <td>1</td>\n",
       "      <td>False</td>\n",
       "    </tr>\n",
       "  </tbody>\n",
       "</table>\n",
       "</div>"
      ],
      "text/plain": [
       "                      metric value bestValue\n",
       "0                 complexity    41       NaN\n",
       "1   duplicated_lines_density   0.0      True\n",
       "2                  functions    35       NaN\n",
       "3               sqale_rating   1.0      True\n",
       "4                       bugs     0      True\n",
       "5                      ncloc   563       NaN\n",
       "6         reliability_rating   1.0      True\n",
       "7            security_rating   1.0      True\n",
       "8      comment_lines_density   2.8     False\n",
       "9              comment_lines    16       NaN\n",
       "10           vulnerabilities     0      True\n",
       "11                     files    14       NaN\n",
       "12               open_issues     1     False"
      ]
     },
     "execution_count": 24,
     "metadata": {},
     "output_type": "execute_result"
    }
   ],
   "source": [
    "back_r1_base_component"
   ]
  },
  {
   "cell_type": "code",
   "execution_count": 25,
   "metadata": {},
   "outputs": [],
   "source": [
    "back_r1_path = []\n",
    "back_r1_qualifier = []\n",
    "back_r1_reliability_rating = []\n",
    "back_r1_complexity = []\n",
    "back_r1_functions = []\n",
    "back_r1_security_rating = []\n",
    "back_r1_comment_lines_density = []\n",
    "back_r1_sqale_rating = []\n",
    "back_r1_comment_lines = []\n",
    "back_r1_ncloc = []\n",
    "back_r1_files = []\n",
    "back_r1_open_issues = []\n",
    "back_r1_bugs = []\n",
    "back_r1_test_success_density = []\n",
    "back_r1_vulnerabilities = []\n",
    "back_r1_duplicated_lines_density = []\n",
    "\n",
    "\n",
    "\n",
    "for i in range(len(back_r1['components'])):\n",
    "    back_r1_path.append(back_r1['components'][i]['path'])\n",
    "    back_r1_qualifier.append(back_r1['components'][i]['qualifier'])\n",
    "    for j in range(len(back_r1['components'][i]['measures'])-1):\n",
    "        if back_r1['components'][i]['measures'][j]['metric'] == 'reliability_rating':\n",
    "            back_r1_reliability_rating.append(back_r1['components'][i]['measures'][j]['value'])\n",
    "        if back_r1['components'][i]['measures'][j]['metric'] == 'complexity':\n",
    "            back_r1_complexity.append(back_r1['components'][i]['measures'][j]['value'])\n",
    "        if back_r1['components'][i]['measures'][j]['metric'] == 'functions':\n",
    "            back_r1_functions.append(back_r1['components'][i]['measures'][j]['value'])\n",
    "        if back_r1['components'][i]['measures'][j]['metric'] == 'security_rating':\n",
    "            back_r1_security_rating.append(back_r1['components'][i]['measures'][j]['value'])\n",
    "        if back_r1['components'][i]['measures'][j]['metric'] == 'comment_lines_density':\n",
    "            back_r1_comment_lines_density.append(back_r1['components'][i]['measures'][j]['value'])\n",
    "        if back_r1['components'][i]['measures'][j]['metric'] == 'sqale_rating':\n",
    "            back_r1_sqale_rating.append(back_r1['components'][i]['measures'][j]['value'])\n",
    "        if back_r1['components'][i]['measures'][j]['metric'] == 'comment_lines':\n",
    "            back_r1_comment_lines.append(back_r1['components'][i]['measures'][j]['value'])\n",
    "        if back_r1['components'][i]['measures'][j]['metric'] == 'ncloc':\n",
    "            back_r1_ncloc.append(back_r1['components'][i]['measures'][j]['value'])\n",
    "        if back_r1['components'][i]['measures'][j]['metric'] == 'files':\n",
    "            back_r1_files.append(back_r1['components'][i]['measures'][j]['value'])\n",
    "        if back_r1['components'][i]['measures'][j]['metric'] == 'open_issues':\n",
    "            back_r1_open_issues.append(back_r1['components'][i]['measures'][j]['value'])\n",
    "        if back_r1['components'][i]['measures'][j]['metric'] == 'bugs':\n",
    "            back_r1_bugs.append(back_r1['components'][i]['measures'][j]['value'])\n",
    "        if back_r1['components'][i]['measures'][j]['metric'] == 'test_success_density':\n",
    "            back_r1_test_success_density.append(back_r1['components'][i]['measures'][j]['value'])\n",
    "        if back_r1['components'][i]['measures'][j]['metric'] == 'vulnerabilities':\n",
    "            back_r1_vulnerabilities.append(back_r1['components'][i]['measures'][j]['value'])\n",
    "        if back_r1['components'][i]['measures'][j]['metric'] == 'duplicated_lines_density':\n",
    "            back_r1_duplicated_lines_density.append(back_r1['components'][i]['measures'][j]['value'])\n",
    "        \n",
    "back_r1_df = [back_r1_path,\n",
    "              back_r1_qualifier,\n",
    "              back_r1_reliability_rating,\n",
    "              back_r1_complexity,\n",
    "              back_r1_functions,\n",
    "              back_r1_security_rating,\n",
    "              back_r1_comment_lines_density,\n",
    "              back_r1_sqale_rating,\n",
    "              back_r1_comment_lines,\n",
    "              back_r1_ncloc,\n",
    "              back_r1_files,\n",
    "              back_r1_open_issues,\n",
    "              back_r1_bugs,\n",
    "              back_r1_test_success_density,\n",
    "              back_r1_vulnerabilities,\n",
    "              back_r1_duplicated_lines_density]"
   ]
  },
  {
   "cell_type": "code",
   "execution_count": 26,
   "metadata": {
    "scrolled": false
   },
   "outputs": [
    {
     "data": {
      "text/html": [
       "<div>\n",
       "<style scoped>\n",
       "    .dataframe tbody tr th:only-of-type {\n",
       "        vertical-align: middle;\n",
       "    }\n",
       "\n",
       "    .dataframe tbody tr th {\n",
       "        vertical-align: top;\n",
       "    }\n",
       "\n",
       "    .dataframe thead th {\n",
       "        text-align: right;\n",
       "    }\n",
       "</style>\n",
       "<table border=\"1\" class=\"dataframe\">\n",
       "  <thead>\n",
       "    <tr style=\"text-align: right;\">\n",
       "      <th></th>\n",
       "      <th>path</th>\n",
       "      <th>qualifier</th>\n",
       "      <th>reliability_rating</th>\n",
       "      <th>complexity</th>\n",
       "      <th>functions</th>\n",
       "      <th>security_rating</th>\n",
       "      <th>comment_lines_density</th>\n",
       "      <th>sqale_rating</th>\n",
       "      <th>comment_lines</th>\n",
       "      <th>ncloc</th>\n",
       "      <th>files</th>\n",
       "      <th>open_issues</th>\n",
       "      <th>bugs</th>\n",
       "      <th>test_success_density</th>\n",
       "      <th>vulnerabilities</th>\n",
       "      <th>duplicated_lines_density</th>\n",
       "    </tr>\n",
       "  </thead>\n",
       "  <tbody>\n",
       "    <tr>\n",
       "      <th>0</th>\n",
       "      <td>packages/benefits/src/models/benefit.js</td>\n",
       "      <td>FIL</td>\n",
       "      <td>1.0</td>\n",
       "      <td>0</td>\n",
       "      <td>0</td>\n",
       "      <td>1.0</td>\n",
       "      <td>0.0</td>\n",
       "      <td>1.0</td>\n",
       "      <td>0</td>\n",
       "      <td>34</td>\n",
       "      <td>1</td>\n",
       "      <td>0</td>\n",
       "      <td>0</td>\n",
       "      <td>100.0</td>\n",
       "      <td>0</td>\n",
       "      <td>0.0</td>\n",
       "    </tr>\n",
       "    <tr>\n",
       "      <th>1</th>\n",
       "      <td>packages/benefits/src/controller/BenefitContro...</td>\n",
       "      <td>FIL</td>\n",
       "      <td>1.0</td>\n",
       "      <td>7</td>\n",
       "      <td>7</td>\n",
       "      <td>1.0</td>\n",
       "      <td>1.4</td>\n",
       "      <td>1.0</td>\n",
       "      <td>1</td>\n",
       "      <td>69</td>\n",
       "      <td>1</td>\n",
       "      <td>0</td>\n",
       "      <td>0</td>\n",
       "      <td>100.0</td>\n",
       "      <td>0</td>\n",
       "      <td>0.0</td>\n",
       "    </tr>\n",
       "    <tr>\n",
       "      <th>2</th>\n",
       "      <td>packages/benefits/src</td>\n",
       "      <td>DIR</td>\n",
       "      <td>1.0</td>\n",
       "      <td>7</td>\n",
       "      <td>7</td>\n",
       "      <td>1.0</td>\n",
       "      <td>0.9</td>\n",
       "      <td>1.0</td>\n",
       "      <td>1</td>\n",
       "      <td>113</td>\n",
       "      <td>3</td>\n",
       "      <td>0</td>\n",
       "      <td>0</td>\n",
       "      <td>100.0</td>\n",
       "      <td>0</td>\n",
       "      <td>0.0</td>\n",
       "    </tr>\n",
       "    <tr>\n",
       "      <th>3</th>\n",
       "      <td>packages/resolution/src/models/category.js</td>\n",
       "      <td>FIL</td>\n",
       "      <td>1.0</td>\n",
       "      <td>0</td>\n",
       "      <td>0</td>\n",
       "      <td>1.0</td>\n",
       "      <td>0.0</td>\n",
       "      <td>1.0</td>\n",
       "      <td>0</td>\n",
       "      <td>21</td>\n",
       "      <td>1</td>\n",
       "      <td>0</td>\n",
       "      <td>0</td>\n",
       "      <td>100.0</td>\n",
       "      <td>0</td>\n",
       "      <td>0.0</td>\n",
       "    </tr>\n",
       "    <tr>\n",
       "      <th>4</th>\n",
       "      <td>packages/benefits/src/config</td>\n",
       "      <td>DIR</td>\n",
       "      <td>1.0</td>\n",
       "      <td>0</td>\n",
       "      <td>0</td>\n",
       "      <td>1.0</td>\n",
       "      <td>0.0</td>\n",
       "      <td>1.0</td>\n",
       "      <td>0</td>\n",
       "      <td>10</td>\n",
       "      <td>1</td>\n",
       "      <td>0</td>\n",
       "      <td>0</td>\n",
       "      <td>100.0</td>\n",
       "      <td>0</td>\n",
       "      <td>0.0</td>\n",
       "    </tr>\n",
       "    <tr>\n",
       "      <th>5</th>\n",
       "      <td>packages/resolution/src/config</td>\n",
       "      <td>DIR</td>\n",
       "      <td>1.0</td>\n",
       "      <td>0</td>\n",
       "      <td>0</td>\n",
       "      <td>1.0</td>\n",
       "      <td>0.0</td>\n",
       "      <td>1.0</td>\n",
       "      <td>0</td>\n",
       "      <td>10</td>\n",
       "      <td>1</td>\n",
       "      <td>0</td>\n",
       "      <td>0</td>\n",
       "      <td>100.0</td>\n",
       "      <td>0</td>\n",
       "      <td>0.0</td>\n",
       "    </tr>\n",
       "    <tr>\n",
       "      <th>6</th>\n",
       "      <td>packages/benefits/src/controller</td>\n",
       "      <td>DIR</td>\n",
       "      <td>1.0</td>\n",
       "      <td>7</td>\n",
       "      <td>7</td>\n",
       "      <td>1.0</td>\n",
       "      <td>1.4</td>\n",
       "      <td>1.0</td>\n",
       "      <td>1</td>\n",
       "      <td>69</td>\n",
       "      <td>1</td>\n",
       "      <td>0</td>\n",
       "      <td>0</td>\n",
       "      <td>100.0</td>\n",
       "      <td>0</td>\n",
       "      <td>0.0</td>\n",
       "    </tr>\n",
       "    <tr>\n",
       "      <th>7</th>\n",
       "      <td>packages/resolution/src/controller</td>\n",
       "      <td>DIR</td>\n",
       "      <td>1.0</td>\n",
       "      <td>11</td>\n",
       "      <td>7</td>\n",
       "      <td>1.0</td>\n",
       "      <td>2.7</td>\n",
       "      <td>1.0</td>\n",
       "      <td>2</td>\n",
       "      <td>72</td>\n",
       "      <td>2</td>\n",
       "      <td>0</td>\n",
       "      <td>0</td>\n",
       "      <td>100.0</td>\n",
       "      <td>0</td>\n",
       "      <td>0.0</td>\n",
       "    </tr>\n",
       "    <tr>\n",
       "      <th>8</th>\n",
       "      <td>packages/resolution/src/test/controller/Contro...</td>\n",
       "      <td>FIL</td>\n",
       "      <td>1.0</td>\n",
       "      <td>14</td>\n",
       "      <td>12</td>\n",
       "      <td>1.0</td>\n",
       "      <td>2.2</td>\n",
       "      <td>1.0</td>\n",
       "      <td>2</td>\n",
       "      <td>90</td>\n",
       "      <td>1</td>\n",
       "      <td>0</td>\n",
       "      <td>0</td>\n",
       "      <td>100.0</td>\n",
       "      <td>0</td>\n",
       "      <td>0.0</td>\n",
       "    </tr>\n",
       "    <tr>\n",
       "      <th>9</th>\n",
       "      <td>packages/benefits/src/config/database.js</td>\n",
       "      <td>FIL</td>\n",
       "      <td>1.0</td>\n",
       "      <td>0</td>\n",
       "      <td>0</td>\n",
       "      <td>1.0</td>\n",
       "      <td>0.0</td>\n",
       "      <td>1.0</td>\n",
       "      <td>0</td>\n",
       "      <td>10</td>\n",
       "      <td>1</td>\n",
       "      <td>0</td>\n",
       "      <td>0</td>\n",
       "      <td>100.0</td>\n",
       "      <td>0</td>\n",
       "      <td>0.0</td>\n",
       "    </tr>\n",
       "    <tr>\n",
       "      <th>10</th>\n",
       "      <td>packages/resolution/src/config/database.js</td>\n",
       "      <td>FIL</td>\n",
       "      <td>1.0</td>\n",
       "      <td>0</td>\n",
       "      <td>0</td>\n",
       "      <td>1.0</td>\n",
       "      <td>0.0</td>\n",
       "      <td>1.0</td>\n",
       "      <td>0</td>\n",
       "      <td>10</td>\n",
       "      <td>1</td>\n",
       "      <td>0</td>\n",
       "      <td>0</td>\n",
       "      <td>100.0</td>\n",
       "      <td>0</td>\n",
       "      <td>0.0</td>\n",
       "    </tr>\n",
       "    <tr>\n",
       "      <th>11</th>\n",
       "      <td>packages/user/index.js</td>\n",
       "      <td>FIL</td>\n",
       "      <td>1.0</td>\n",
       "      <td>1</td>\n",
       "      <td>1</td>\n",
       "      <td>1.0</td>\n",
       "      <td>0.0</td>\n",
       "      <td>1.0</td>\n",
       "      <td>0</td>\n",
       "      <td>11</td>\n",
       "      <td>1</td>\n",
       "      <td>1</td>\n",
       "      <td>0</td>\n",
       "      <td>100.0</td>\n",
       "      <td>0</td>\n",
       "      <td>None</td>\n",
       "    </tr>\n",
       "    <tr>\n",
       "      <th>12</th>\n",
       "      <td>packages/benefits/src/models</td>\n",
       "      <td>DIR</td>\n",
       "      <td>1.0</td>\n",
       "      <td>0</td>\n",
       "      <td>0</td>\n",
       "      <td>1.0</td>\n",
       "      <td>0.0</td>\n",
       "      <td>1.0</td>\n",
       "      <td>0</td>\n",
       "      <td>34</td>\n",
       "      <td>1</td>\n",
       "      <td>0</td>\n",
       "      <td>0</td>\n",
       "      <td>100.0</td>\n",
       "      <td>0</td>\n",
       "      <td>None</td>\n",
       "    </tr>\n",
       "    <tr>\n",
       "      <th>13</th>\n",
       "      <td>packages/resolution/src/models</td>\n",
       "      <td>DIR</td>\n",
       "      <td>1.0</td>\n",
       "      <td>1</td>\n",
       "      <td>1</td>\n",
       "      <td>1.0</td>\n",
       "      <td>4.6</td>\n",
       "      <td>1.0</td>\n",
       "      <td>11</td>\n",
       "      <td>227</td>\n",
       "      <td>5</td>\n",
       "      <td>0</td>\n",
       "      <td>0</td>\n",
       "      <td>100.0</td>\n",
       "      <td>0</td>\n",
       "      <td>None</td>\n",
       "    </tr>\n",
       "    <tr>\n",
       "      <th>14</th>\n",
       "      <td>packages/resolution/src/test/controller/ModelT...</td>\n",
       "      <td>FIL</td>\n",
       "      <td>1.0</td>\n",
       "      <td>7</td>\n",
       "      <td>7</td>\n",
       "      <td>1.0</td>\n",
       "      <td>0.0</td>\n",
       "      <td>1.0</td>\n",
       "      <td>0</td>\n",
       "      <td>40</td>\n",
       "      <td>1</td>\n",
       "      <td>None</td>\n",
       "      <td>0</td>\n",
       "      <td>None</td>\n",
       "      <td>0</td>\n",
       "      <td>None</td>\n",
       "    </tr>\n",
       "    <tr>\n",
       "      <th>15</th>\n",
       "      <td>packages</td>\n",
       "      <td>DIR</td>\n",
       "      <td>1.0</td>\n",
       "      <td>41</td>\n",
       "      <td>35</td>\n",
       "      <td>1.0</td>\n",
       "      <td>2.8</td>\n",
       "      <td>1.0</td>\n",
       "      <td>16</td>\n",
       "      <td>563</td>\n",
       "      <td>14</td>\n",
       "      <td>None</td>\n",
       "      <td>0</td>\n",
       "      <td>None</td>\n",
       "      <td>0</td>\n",
       "      <td>None</td>\n",
       "    </tr>\n",
       "    <tr>\n",
       "      <th>16</th>\n",
       "      <td>packages/resolution/src/models/place.js</td>\n",
       "      <td>FIL</td>\n",
       "      <td>1.0</td>\n",
       "      <td>0</td>\n",
       "      <td>0</td>\n",
       "      <td>1.0</td>\n",
       "      <td>0.0</td>\n",
       "      <td>1.0</td>\n",
       "      <td>0</td>\n",
       "      <td>24</td>\n",
       "      <td>1</td>\n",
       "      <td>None</td>\n",
       "      <td>0</td>\n",
       "      <td>None</td>\n",
       "      <td>0</td>\n",
       "      <td>None</td>\n",
       "    </tr>\n",
       "    <tr>\n",
       "      <th>17</th>\n",
       "      <td>packages/resolution/src/models/post.js</td>\n",
       "      <td>FIL</td>\n",
       "      <td>1.0</td>\n",
       "      <td>1</td>\n",
       "      <td>1</td>\n",
       "      <td>1.0</td>\n",
       "      <td>11.7</td>\n",
       "      <td>1.0</td>\n",
       "      <td>11</td>\n",
       "      <td>83</td>\n",
       "      <td>1</td>\n",
       "      <td>None</td>\n",
       "      <td>0</td>\n",
       "      <td>None</td>\n",
       "      <td>0</td>\n",
       "      <td>None</td>\n",
       "    </tr>\n",
       "    <tr>\n",
       "      <th>18</th>\n",
       "      <td>packages/resolution/src/controller/PostControl...</td>\n",
       "      <td>FIL</td>\n",
       "      <td>1.0</td>\n",
       "      <td>7</td>\n",
       "      <td>3</td>\n",
       "      <td>1.0</td>\n",
       "      <td>5.7</td>\n",
       "      <td>1.0</td>\n",
       "      <td>2</td>\n",
       "      <td>33</td>\n",
       "      <td>1</td>\n",
       "      <td>None</td>\n",
       "      <td>0</td>\n",
       "      <td>None</td>\n",
       "      <td>0</td>\n",
       "      <td>None</td>\n",
       "    </tr>\n",
       "    <tr>\n",
       "      <th>19</th>\n",
       "      <td>packages/resolution/src/controller/postService.js</td>\n",
       "      <td>FIL</td>\n",
       "      <td>1.0</td>\n",
       "      <td>4</td>\n",
       "      <td>4</td>\n",
       "      <td>1.0</td>\n",
       "      <td>0.0</td>\n",
       "      <td>1.0</td>\n",
       "      <td>0</td>\n",
       "      <td>39</td>\n",
       "      <td>1</td>\n",
       "      <td>None</td>\n",
       "      <td>0</td>\n",
       "      <td>None</td>\n",
       "      <td>0</td>\n",
       "      <td>None</td>\n",
       "    </tr>\n",
       "    <tr>\n",
       "      <th>20</th>\n",
       "      <td>packages/resolution/src</td>\n",
       "      <td>DIR</td>\n",
       "      <td>1.0</td>\n",
       "      <td>33</td>\n",
       "      <td>27</td>\n",
       "      <td>1.0</td>\n",
       "      <td>3.3</td>\n",
       "      <td>1.0</td>\n",
       "      <td>15</td>\n",
       "      <td>439</td>\n",
       "      <td>10</td>\n",
       "      <td>None</td>\n",
       "      <td>0</td>\n",
       "      <td>None</td>\n",
       "      <td>0</td>\n",
       "      <td>None</td>\n",
       "    </tr>\n",
       "    <tr>\n",
       "      <th>21</th>\n",
       "      <td>packages/resolution/src/test/controller</td>\n",
       "      <td>DIR</td>\n",
       "      <td>1.0</td>\n",
       "      <td>21</td>\n",
       "      <td>19</td>\n",
       "      <td>1.0</td>\n",
       "      <td>1.5</td>\n",
       "      <td>1.0</td>\n",
       "      <td>2</td>\n",
       "      <td>130</td>\n",
       "      <td>2</td>\n",
       "      <td>None</td>\n",
       "      <td>0</td>\n",
       "      <td>None</td>\n",
       "      <td>0</td>\n",
       "      <td>None</td>\n",
       "    </tr>\n",
       "    <tr>\n",
       "      <th>22</th>\n",
       "      <td>packages/user</td>\n",
       "      <td>DIR</td>\n",
       "      <td>1.0</td>\n",
       "      <td>1</td>\n",
       "      <td>1</td>\n",
       "      <td>1.0</td>\n",
       "      <td>0.0</td>\n",
       "      <td>1.0</td>\n",
       "      <td>0</td>\n",
       "      <td>11</td>\n",
       "      <td>1</td>\n",
       "      <td>None</td>\n",
       "      <td>0</td>\n",
       "      <td>None</td>\n",
       "      <td>0</td>\n",
       "      <td>None</td>\n",
       "    </tr>\n",
       "    <tr>\n",
       "      <th>23</th>\n",
       "      <td>packages/resolution/src/models/user.js</td>\n",
       "      <td>FIL</td>\n",
       "      <td>1.0</td>\n",
       "      <td>0</td>\n",
       "      <td>0</td>\n",
       "      <td>1.0</td>\n",
       "      <td>0.0</td>\n",
       "      <td>1.0</td>\n",
       "      <td>0</td>\n",
       "      <td>38</td>\n",
       "      <td>1</td>\n",
       "      <td>None</td>\n",
       "      <td>0</td>\n",
       "      <td>None</td>\n",
       "      <td>0</td>\n",
       "      <td>None</td>\n",
       "    </tr>\n",
       "    <tr>\n",
       "      <th>24</th>\n",
       "      <td>packages/resolution/src/models/votes.js</td>\n",
       "      <td>FIL</td>\n",
       "      <td>1.0</td>\n",
       "      <td>0</td>\n",
       "      <td>0</td>\n",
       "      <td>1.0</td>\n",
       "      <td>0.0</td>\n",
       "      <td>1.0</td>\n",
       "      <td>0</td>\n",
       "      <td>61</td>\n",
       "      <td>1</td>\n",
       "      <td>None</td>\n",
       "      <td>0</td>\n",
       "      <td>None</td>\n",
       "      <td>0</td>\n",
       "      <td>None</td>\n",
       "    </tr>\n",
       "  </tbody>\n",
       "</table>\n",
       "</div>"
      ],
      "text/plain": [
       "                                                 path qualifier  \\\n",
       "0             packages/benefits/src/models/benefit.js       FIL   \n",
       "1   packages/benefits/src/controller/BenefitContro...       FIL   \n",
       "2                               packages/benefits/src       DIR   \n",
       "3          packages/resolution/src/models/category.js       FIL   \n",
       "4                        packages/benefits/src/config       DIR   \n",
       "5                      packages/resolution/src/config       DIR   \n",
       "6                    packages/benefits/src/controller       DIR   \n",
       "7                  packages/resolution/src/controller       DIR   \n",
       "8   packages/resolution/src/test/controller/Contro...       FIL   \n",
       "9            packages/benefits/src/config/database.js       FIL   \n",
       "10         packages/resolution/src/config/database.js       FIL   \n",
       "11                             packages/user/index.js       FIL   \n",
       "12                       packages/benefits/src/models       DIR   \n",
       "13                     packages/resolution/src/models       DIR   \n",
       "14  packages/resolution/src/test/controller/ModelT...       FIL   \n",
       "15                                           packages       DIR   \n",
       "16            packages/resolution/src/models/place.js       FIL   \n",
       "17             packages/resolution/src/models/post.js       FIL   \n",
       "18  packages/resolution/src/controller/PostControl...       FIL   \n",
       "19  packages/resolution/src/controller/postService.js       FIL   \n",
       "20                            packages/resolution/src       DIR   \n",
       "21            packages/resolution/src/test/controller       DIR   \n",
       "22                                      packages/user       DIR   \n",
       "23             packages/resolution/src/models/user.js       FIL   \n",
       "24            packages/resolution/src/models/votes.js       FIL   \n",
       "\n",
       "   reliability_rating complexity functions security_rating  \\\n",
       "0                 1.0          0         0             1.0   \n",
       "1                 1.0          7         7             1.0   \n",
       "2                 1.0          7         7             1.0   \n",
       "3                 1.0          0         0             1.0   \n",
       "4                 1.0          0         0             1.0   \n",
       "5                 1.0          0         0             1.0   \n",
       "6                 1.0          7         7             1.0   \n",
       "7                 1.0         11         7             1.0   \n",
       "8                 1.0         14        12             1.0   \n",
       "9                 1.0          0         0             1.0   \n",
       "10                1.0          0         0             1.0   \n",
       "11                1.0          1         1             1.0   \n",
       "12                1.0          0         0             1.0   \n",
       "13                1.0          1         1             1.0   \n",
       "14                1.0          7         7             1.0   \n",
       "15                1.0         41        35             1.0   \n",
       "16                1.0          0         0             1.0   \n",
       "17                1.0          1         1             1.0   \n",
       "18                1.0          7         3             1.0   \n",
       "19                1.0          4         4             1.0   \n",
       "20                1.0         33        27             1.0   \n",
       "21                1.0         21        19             1.0   \n",
       "22                1.0          1         1             1.0   \n",
       "23                1.0          0         0             1.0   \n",
       "24                1.0          0         0             1.0   \n",
       "\n",
       "   comment_lines_density sqale_rating comment_lines ncloc files open_issues  \\\n",
       "0                    0.0          1.0             0    34     1           0   \n",
       "1                    1.4          1.0             1    69     1           0   \n",
       "2                    0.9          1.0             1   113     3           0   \n",
       "3                    0.0          1.0             0    21     1           0   \n",
       "4                    0.0          1.0             0    10     1           0   \n",
       "5                    0.0          1.0             0    10     1           0   \n",
       "6                    1.4          1.0             1    69     1           0   \n",
       "7                    2.7          1.0             2    72     2           0   \n",
       "8                    2.2          1.0             2    90     1           0   \n",
       "9                    0.0          1.0             0    10     1           0   \n",
       "10                   0.0          1.0             0    10     1           0   \n",
       "11                   0.0          1.0             0    11     1           1   \n",
       "12                   0.0          1.0             0    34     1           0   \n",
       "13                   4.6          1.0            11   227     5           0   \n",
       "14                   0.0          1.0             0    40     1        None   \n",
       "15                   2.8          1.0            16   563    14        None   \n",
       "16                   0.0          1.0             0    24     1        None   \n",
       "17                  11.7          1.0            11    83     1        None   \n",
       "18                   5.7          1.0             2    33     1        None   \n",
       "19                   0.0          1.0             0    39     1        None   \n",
       "20                   3.3          1.0            15   439    10        None   \n",
       "21                   1.5          1.0             2   130     2        None   \n",
       "22                   0.0          1.0             0    11     1        None   \n",
       "23                   0.0          1.0             0    38     1        None   \n",
       "24                   0.0          1.0             0    61     1        None   \n",
       "\n",
       "   bugs test_success_density vulnerabilities duplicated_lines_density  \n",
       "0     0                100.0               0                      0.0  \n",
       "1     0                100.0               0                      0.0  \n",
       "2     0                100.0               0                      0.0  \n",
       "3     0                100.0               0                      0.0  \n",
       "4     0                100.0               0                      0.0  \n",
       "5     0                100.0               0                      0.0  \n",
       "6     0                100.0               0                      0.0  \n",
       "7     0                100.0               0                      0.0  \n",
       "8     0                100.0               0                      0.0  \n",
       "9     0                100.0               0                      0.0  \n",
       "10    0                100.0               0                      0.0  \n",
       "11    0                100.0               0                     None  \n",
       "12    0                100.0               0                     None  \n",
       "13    0                100.0               0                     None  \n",
       "14    0                 None               0                     None  \n",
       "15    0                 None               0                     None  \n",
       "16    0                 None               0                     None  \n",
       "17    0                 None               0                     None  \n",
       "18    0                 None               0                     None  \n",
       "19    0                 None               0                     None  \n",
       "20    0                 None               0                     None  \n",
       "21    0                 None               0                     None  \n",
       "22    0                 None               0                     None  \n",
       "23    0                 None               0                     None  \n",
       "24    0                 None               0                     None  "
      ]
     },
     "execution_count": 26,
     "metadata": {},
     "output_type": "execute_result"
    }
   ],
   "source": [
    "back_r1_df = pd.DataFrame(back_r1_df).T\n",
    "back_r1_df.columns = col_r1\n",
    "back_r1_df"
   ]
  },
  {
   "cell_type": "code",
   "execution_count": 27,
   "metadata": {
    "scrolled": false
   },
   "outputs": [
    {
     "data": {
      "text/html": [
       "<div>\n",
       "<style scoped>\n",
       "    .dataframe tbody tr th:only-of-type {\n",
       "        vertical-align: middle;\n",
       "    }\n",
       "\n",
       "    .dataframe tbody tr th {\n",
       "        vertical-align: top;\n",
       "    }\n",
       "\n",
       "    .dataframe thead th {\n",
       "        text-align: right;\n",
       "    }\n",
       "</style>\n",
       "<table border=\"1\" class=\"dataframe\">\n",
       "  <thead>\n",
       "    <tr style=\"text-align: right;\">\n",
       "      <th></th>\n",
       "      <th>path</th>\n",
       "      <th>qualifier</th>\n",
       "      <th>reliability_rating</th>\n",
       "      <th>complexity</th>\n",
       "      <th>functions</th>\n",
       "      <th>security_rating</th>\n",
       "      <th>comment_lines_density</th>\n",
       "      <th>sqale_rating</th>\n",
       "      <th>comment_lines</th>\n",
       "      <th>ncloc</th>\n",
       "      <th>files</th>\n",
       "      <th>open_issues</th>\n",
       "      <th>bugs</th>\n",
       "      <th>test_success_density</th>\n",
       "      <th>vulnerabilities</th>\n",
       "      <th>duplicated_lines_density</th>\n",
       "    </tr>\n",
       "  </thead>\n",
       "  <tbody>\n",
       "    <tr>\n",
       "      <th>0</th>\n",
       "      <td>packages/benefits/src/models/benefit.js</td>\n",
       "      <td>FIL</td>\n",
       "      <td>1.0</td>\n",
       "      <td>0</td>\n",
       "      <td>0</td>\n",
       "      <td>1.0</td>\n",
       "      <td>0.0</td>\n",
       "      <td>1.0</td>\n",
       "      <td>0</td>\n",
       "      <td>34</td>\n",
       "      <td>1</td>\n",
       "      <td>0</td>\n",
       "      <td>0</td>\n",
       "      <td>100.0</td>\n",
       "      <td>0</td>\n",
       "      <td>0.0</td>\n",
       "    </tr>\n",
       "    <tr>\n",
       "      <th>1</th>\n",
       "      <td>packages/benefits/src/controller/BenefitContro...</td>\n",
       "      <td>FIL</td>\n",
       "      <td>1.0</td>\n",
       "      <td>7</td>\n",
       "      <td>7</td>\n",
       "      <td>1.0</td>\n",
       "      <td>1.4</td>\n",
       "      <td>1.0</td>\n",
       "      <td>1</td>\n",
       "      <td>69</td>\n",
       "      <td>1</td>\n",
       "      <td>0</td>\n",
       "      <td>0</td>\n",
       "      <td>100.0</td>\n",
       "      <td>0</td>\n",
       "      <td>0.0</td>\n",
       "    </tr>\n",
       "    <tr>\n",
       "      <th>2</th>\n",
       "      <td>packages/resolution/src/models/category.js</td>\n",
       "      <td>FIL</td>\n",
       "      <td>1.0</td>\n",
       "      <td>0</td>\n",
       "      <td>0</td>\n",
       "      <td>1.0</td>\n",
       "      <td>0.0</td>\n",
       "      <td>1.0</td>\n",
       "      <td>0</td>\n",
       "      <td>21</td>\n",
       "      <td>1</td>\n",
       "      <td>0</td>\n",
       "      <td>0</td>\n",
       "      <td>100.0</td>\n",
       "      <td>0</td>\n",
       "      <td>0.0</td>\n",
       "    </tr>\n",
       "    <tr>\n",
       "      <th>3</th>\n",
       "      <td>packages/resolution/src/test/controller/Contro...</td>\n",
       "      <td>FIL</td>\n",
       "      <td>1.0</td>\n",
       "      <td>14</td>\n",
       "      <td>12</td>\n",
       "      <td>1.0</td>\n",
       "      <td>2.2</td>\n",
       "      <td>1.0</td>\n",
       "      <td>2</td>\n",
       "      <td>90</td>\n",
       "      <td>1</td>\n",
       "      <td>0</td>\n",
       "      <td>0</td>\n",
       "      <td>100.0</td>\n",
       "      <td>0</td>\n",
       "      <td>0.0</td>\n",
       "    </tr>\n",
       "    <tr>\n",
       "      <th>4</th>\n",
       "      <td>packages/benefits/src/config/database.js</td>\n",
       "      <td>FIL</td>\n",
       "      <td>1.0</td>\n",
       "      <td>0</td>\n",
       "      <td>0</td>\n",
       "      <td>1.0</td>\n",
       "      <td>0.0</td>\n",
       "      <td>1.0</td>\n",
       "      <td>0</td>\n",
       "      <td>10</td>\n",
       "      <td>1</td>\n",
       "      <td>0</td>\n",
       "      <td>0</td>\n",
       "      <td>100.0</td>\n",
       "      <td>0</td>\n",
       "      <td>0.0</td>\n",
       "    </tr>\n",
       "    <tr>\n",
       "      <th>5</th>\n",
       "      <td>packages/resolution/src/config/database.js</td>\n",
       "      <td>FIL</td>\n",
       "      <td>1.0</td>\n",
       "      <td>0</td>\n",
       "      <td>0</td>\n",
       "      <td>1.0</td>\n",
       "      <td>0.0</td>\n",
       "      <td>1.0</td>\n",
       "      <td>0</td>\n",
       "      <td>10</td>\n",
       "      <td>1</td>\n",
       "      <td>0</td>\n",
       "      <td>0</td>\n",
       "      <td>100.0</td>\n",
       "      <td>0</td>\n",
       "      <td>0.0</td>\n",
       "    </tr>\n",
       "    <tr>\n",
       "      <th>6</th>\n",
       "      <td>packages/user/index.js</td>\n",
       "      <td>FIL</td>\n",
       "      <td>1.0</td>\n",
       "      <td>1</td>\n",
       "      <td>1</td>\n",
       "      <td>1.0</td>\n",
       "      <td>0.0</td>\n",
       "      <td>1.0</td>\n",
       "      <td>0</td>\n",
       "      <td>11</td>\n",
       "      <td>1</td>\n",
       "      <td>1</td>\n",
       "      <td>0</td>\n",
       "      <td>100.0</td>\n",
       "      <td>0</td>\n",
       "      <td>None</td>\n",
       "    </tr>\n",
       "    <tr>\n",
       "      <th>7</th>\n",
       "      <td>packages/resolution/src/test/controller/ModelT...</td>\n",
       "      <td>FIL</td>\n",
       "      <td>1.0</td>\n",
       "      <td>7</td>\n",
       "      <td>7</td>\n",
       "      <td>1.0</td>\n",
       "      <td>0.0</td>\n",
       "      <td>1.0</td>\n",
       "      <td>0</td>\n",
       "      <td>40</td>\n",
       "      <td>1</td>\n",
       "      <td>None</td>\n",
       "      <td>0</td>\n",
       "      <td>None</td>\n",
       "      <td>0</td>\n",
       "      <td>None</td>\n",
       "    </tr>\n",
       "    <tr>\n",
       "      <th>8</th>\n",
       "      <td>packages/resolution/src/models/place.js</td>\n",
       "      <td>FIL</td>\n",
       "      <td>1.0</td>\n",
       "      <td>0</td>\n",
       "      <td>0</td>\n",
       "      <td>1.0</td>\n",
       "      <td>0.0</td>\n",
       "      <td>1.0</td>\n",
       "      <td>0</td>\n",
       "      <td>24</td>\n",
       "      <td>1</td>\n",
       "      <td>None</td>\n",
       "      <td>0</td>\n",
       "      <td>None</td>\n",
       "      <td>0</td>\n",
       "      <td>None</td>\n",
       "    </tr>\n",
       "    <tr>\n",
       "      <th>9</th>\n",
       "      <td>packages/resolution/src/models/post.js</td>\n",
       "      <td>FIL</td>\n",
       "      <td>1.0</td>\n",
       "      <td>1</td>\n",
       "      <td>1</td>\n",
       "      <td>1.0</td>\n",
       "      <td>11.7</td>\n",
       "      <td>1.0</td>\n",
       "      <td>11</td>\n",
       "      <td>83</td>\n",
       "      <td>1</td>\n",
       "      <td>None</td>\n",
       "      <td>0</td>\n",
       "      <td>None</td>\n",
       "      <td>0</td>\n",
       "      <td>None</td>\n",
       "    </tr>\n",
       "    <tr>\n",
       "      <th>10</th>\n",
       "      <td>packages/resolution/src/controller/PostControl...</td>\n",
       "      <td>FIL</td>\n",
       "      <td>1.0</td>\n",
       "      <td>7</td>\n",
       "      <td>3</td>\n",
       "      <td>1.0</td>\n",
       "      <td>5.7</td>\n",
       "      <td>1.0</td>\n",
       "      <td>2</td>\n",
       "      <td>33</td>\n",
       "      <td>1</td>\n",
       "      <td>None</td>\n",
       "      <td>0</td>\n",
       "      <td>None</td>\n",
       "      <td>0</td>\n",
       "      <td>None</td>\n",
       "    </tr>\n",
       "    <tr>\n",
       "      <th>11</th>\n",
       "      <td>packages/resolution/src/controller/postService.js</td>\n",
       "      <td>FIL</td>\n",
       "      <td>1.0</td>\n",
       "      <td>4</td>\n",
       "      <td>4</td>\n",
       "      <td>1.0</td>\n",
       "      <td>0.0</td>\n",
       "      <td>1.0</td>\n",
       "      <td>0</td>\n",
       "      <td>39</td>\n",
       "      <td>1</td>\n",
       "      <td>None</td>\n",
       "      <td>0</td>\n",
       "      <td>None</td>\n",
       "      <td>0</td>\n",
       "      <td>None</td>\n",
       "    </tr>\n",
       "    <tr>\n",
       "      <th>12</th>\n",
       "      <td>packages/resolution/src/models/user.js</td>\n",
       "      <td>FIL</td>\n",
       "      <td>1.0</td>\n",
       "      <td>0</td>\n",
       "      <td>0</td>\n",
       "      <td>1.0</td>\n",
       "      <td>0.0</td>\n",
       "      <td>1.0</td>\n",
       "      <td>0</td>\n",
       "      <td>38</td>\n",
       "      <td>1</td>\n",
       "      <td>None</td>\n",
       "      <td>0</td>\n",
       "      <td>None</td>\n",
       "      <td>0</td>\n",
       "      <td>None</td>\n",
       "    </tr>\n",
       "    <tr>\n",
       "      <th>13</th>\n",
       "      <td>packages/resolution/src/models/votes.js</td>\n",
       "      <td>FIL</td>\n",
       "      <td>1.0</td>\n",
       "      <td>0</td>\n",
       "      <td>0</td>\n",
       "      <td>1.0</td>\n",
       "      <td>0.0</td>\n",
       "      <td>1.0</td>\n",
       "      <td>0</td>\n",
       "      <td>61</td>\n",
       "      <td>1</td>\n",
       "      <td>None</td>\n",
       "      <td>0</td>\n",
       "      <td>None</td>\n",
       "      <td>0</td>\n",
       "      <td>None</td>\n",
       "    </tr>\n",
       "  </tbody>\n",
       "</table>\n",
       "</div>"
      ],
      "text/plain": [
       "                                                 path qualifier  \\\n",
       "0             packages/benefits/src/models/benefit.js       FIL   \n",
       "1   packages/benefits/src/controller/BenefitContro...       FIL   \n",
       "2          packages/resolution/src/models/category.js       FIL   \n",
       "3   packages/resolution/src/test/controller/Contro...       FIL   \n",
       "4            packages/benefits/src/config/database.js       FIL   \n",
       "5          packages/resolution/src/config/database.js       FIL   \n",
       "6                              packages/user/index.js       FIL   \n",
       "7   packages/resolution/src/test/controller/ModelT...       FIL   \n",
       "8             packages/resolution/src/models/place.js       FIL   \n",
       "9              packages/resolution/src/models/post.js       FIL   \n",
       "10  packages/resolution/src/controller/PostControl...       FIL   \n",
       "11  packages/resolution/src/controller/postService.js       FIL   \n",
       "12             packages/resolution/src/models/user.js       FIL   \n",
       "13            packages/resolution/src/models/votes.js       FIL   \n",
       "\n",
       "   reliability_rating complexity functions security_rating  \\\n",
       "0                 1.0          0         0             1.0   \n",
       "1                 1.0          7         7             1.0   \n",
       "2                 1.0          0         0             1.0   \n",
       "3                 1.0         14        12             1.0   \n",
       "4                 1.0          0         0             1.0   \n",
       "5                 1.0          0         0             1.0   \n",
       "6                 1.0          1         1             1.0   \n",
       "7                 1.0          7         7             1.0   \n",
       "8                 1.0          0         0             1.0   \n",
       "9                 1.0          1         1             1.0   \n",
       "10                1.0          7         3             1.0   \n",
       "11                1.0          4         4             1.0   \n",
       "12                1.0          0         0             1.0   \n",
       "13                1.0          0         0             1.0   \n",
       "\n",
       "   comment_lines_density sqale_rating comment_lines ncloc files open_issues  \\\n",
       "0                    0.0          1.0             0    34     1           0   \n",
       "1                    1.4          1.0             1    69     1           0   \n",
       "2                    0.0          1.0             0    21     1           0   \n",
       "3                    2.2          1.0             2    90     1           0   \n",
       "4                    0.0          1.0             0    10     1           0   \n",
       "5                    0.0          1.0             0    10     1           0   \n",
       "6                    0.0          1.0             0    11     1           1   \n",
       "7                    0.0          1.0             0    40     1        None   \n",
       "8                    0.0          1.0             0    24     1        None   \n",
       "9                   11.7          1.0            11    83     1        None   \n",
       "10                   5.7          1.0             2    33     1        None   \n",
       "11                   0.0          1.0             0    39     1        None   \n",
       "12                   0.0          1.0             0    38     1        None   \n",
       "13                   0.0          1.0             0    61     1        None   \n",
       "\n",
       "   bugs test_success_density vulnerabilities duplicated_lines_density  \n",
       "0     0                100.0               0                      0.0  \n",
       "1     0                100.0               0                      0.0  \n",
       "2     0                100.0               0                      0.0  \n",
       "3     0                100.0               0                      0.0  \n",
       "4     0                100.0               0                      0.0  \n",
       "5     0                100.0               0                      0.0  \n",
       "6     0                100.0               0                     None  \n",
       "7     0                 None               0                     None  \n",
       "8     0                 None               0                     None  \n",
       "9     0                 None               0                     None  \n",
       "10    0                 None               0                     None  \n",
       "11    0                 None               0                     None  \n",
       "12    0                 None               0                     None  \n",
       "13    0                 None               0                     None  "
      ]
     },
     "execution_count": 27,
     "metadata": {},
     "output_type": "execute_result"
    }
   ],
   "source": [
    "back_r1_df = back_r1_df[back_r1_df['qualifier'] == 'FIL'].reset_index(drop=True)\n",
    "back_r1_df"
   ]
  },
  {
   "cell_type": "code",
   "execution_count": 28,
   "metadata": {},
   "outputs": [],
   "source": [
    "# print('Media: ' + back_r1_df['complexity'].astype(int).mean())\n",
    "# print('Mediana: ' + back_r1_df['complexity'].astype(int).median())\n",
    "# print('Max: ' + back_r1_df['complexity'].astype(int).max())\n",
    "# print('Min: ' + back_r1_df['complexity'].astype(int).min())\n",
    "# print('Moda: ' + back_f1_df['complexity'].astype(int).mode())\n",
    "# print('Std: ' + back_r1_df['complexity'].astype(int).std())\n",
    "# print('Variancia' + back_r1_df['complexity'].astype(int).var())\n",
    "\n",
    "# Criar o dataframe"
   ]
  },
  {
   "cell_type": "code",
   "execution_count": 38,
   "metadata": {},
   "outputs": [
    {
     "data": {
      "text/html": [
       "<div>\n",
       "<style scoped>\n",
       "    .dataframe tbody tr th:only-of-type {\n",
       "        vertical-align: middle;\n",
       "    }\n",
       "\n",
       "    .dataframe tbody tr th {\n",
       "        vertical-align: top;\n",
       "    }\n",
       "\n",
       "    .dataframe thead th {\n",
       "        text-align: right;\n",
       "    }\n",
       "</style>\n",
       "<table border=\"1\" class=\"dataframe\">\n",
       "  <thead>\n",
       "    <tr style=\"text-align: right;\">\n",
       "      <th></th>\n",
       "      <th>media</th>\n",
       "      <th>mediana</th>\n",
       "      <th>max</th>\n",
       "      <th>min</th>\n",
       "      <th>moda</th>\n",
       "      <th>std</th>\n",
       "      <th>variancia</th>\n",
       "    </tr>\n",
       "  </thead>\n",
       "  <tbody>\n",
       "  </tbody>\n",
       "</table>\n",
       "</div>"
      ],
      "text/plain": [
       "Empty DataFrame\n",
       "Columns: [media, mediana, max, min, moda, std, variancia]\n",
       "Index: []"
      ]
     },
     "execution_count": 38,
     "metadata": {},
     "output_type": "execute_result"
    }
   ],
   "source": [
    "df_medidas = pd.DataFrame(columns=['media','mediana','max','min','moda','std','variancia'])\n",
    "df_medidas"
   ]
  },
  {
   "cell_type": "code",
   "execution_count": null,
   "metadata": {},
   "outputs": [],
   "source": []
  },
  {
   "cell_type": "code",
   "execution_count": 29,
   "metadata": {},
   "outputs": [
    {
     "data": {
      "text/plain": [
       "<AxesSubplot:>"
      ]
     },
     "execution_count": 29,
     "metadata": {},
     "output_type": "execute_result"
    },
    {
     "data": {
      "image/png": "[encoded data removed]",
      "text/plain": [
       "<Figure size 432x288 with 1 Axes>"
      ]
     },
     "metadata": {
      "needs_background": "light"
     },
     "output_type": "display_data"
    }
   ],
   "source": [
    "back_r1_df['complexity'].astype(int).plot.box()"
   ]
  },
  {
   "cell_type": "markdown",
   "metadata": {},
   "source": [
    "### Função de Interpretação e Normalização (fórmulas)"
   ]
  },
  {
   "cell_type": "markdown",
   "metadata": {},
   "source": [
    "##### ma1"
   ]
  },
  {
   "cell_type": "code",
   "execution_count": 30,
   "metadata": {},
   "outputs": [
    {
     "data": {
      "text/plain": [
       "0.5"
      ]
     },
     "execution_count": 30,
     "metadata": {},
     "output_type": "execute_result"
    }
   ],
   "source": [
    "median_complexity = np.median(back_r1_df['complexity'].astype(float))\n",
    "median_complexity"
   ]
  },
  {
   "cell_type": "code",
   "execution_count": 31,
   "metadata": {},
   "outputs": [
    {
     "data": {
      "text/html": [
       "<div>\n",
       "<style scoped>\n",
       "    .dataframe tbody tr th:only-of-type {\n",
       "        vertical-align: middle;\n",
       "    }\n",
       "\n",
       "    .dataframe tbody tr th {\n",
       "        vertical-align: top;\n",
       "    }\n",
       "\n",
       "    .dataframe thead th {\n",
       "        text-align: right;\n",
       "    }\n",
       "</style>\n",
       "<table border=\"1\" class=\"dataframe\">\n",
       "  <thead>\n",
       "    <tr style=\"text-align: right;\">\n",
       "      <th></th>\n",
       "      <th>complexity</th>\n",
       "      <th>functions</th>\n",
       "    </tr>\n",
       "  </thead>\n",
       "  <tbody>\n",
       "    <tr>\n",
       "      <th>6</th>\n",
       "      <td>1</td>\n",
       "      <td>1</td>\n",
       "    </tr>\n",
       "    <tr>\n",
       "      <th>9</th>\n",
       "      <td>1</td>\n",
       "      <td>1</td>\n",
       "    </tr>\n",
       "    <tr>\n",
       "      <th>11</th>\n",
       "      <td>4</td>\n",
       "      <td>4</td>\n",
       "    </tr>\n",
       "  </tbody>\n",
       "</table>\n",
       "</div>"
      ],
      "text/plain": [
       "   complexity functions\n",
       "6           1         1\n",
       "9           1         1\n",
       "11          4         4"
      ]
     },
     "execution_count": 31,
     "metadata": {},
     "output_type": "execute_result"
    }
   ],
   "source": [
    "complexity = back_r1_df[['complexity', 'functions']][(back_r1_df['complexity'].astype(float) <= 5) & (back_r1_df['functions'].astype(float) > 0) ]\n",
    "complexity"
   ]
  },
  {
   "cell_type": "code",
   "execution_count": 32,
   "metadata": {},
   "outputs": [
    {
     "data": {
      "text/plain": [
       "0.17142857142857146"
      ]
     },
     "execution_count": 32,
     "metadata": {},
     "output_type": "execute_result"
    }
   ],
   "source": [
    "fi1 = 0\n",
    "\n",
    "x = np.array([0, 5])\n",
    "y = np.array([1, 0])\n",
    "\n",
    "for i in range(len(complexity)):\n",
    "    fi1 += (np.interp(float(complexity['complexity'].iloc[i])/float(complexity['functions'].iloc[i]), x, y))\n",
    "\n",
    "ma1_b1 = fi1/float(len(back_r1_df['complexity']))\n",
    "\n",
    "ma1_b1"
   ]
  },
  {
   "cell_type": "markdown",
   "metadata": {},
   "source": [
    "##### ma2"
   ]
  },
  {
   "cell_type": "code",
   "execution_count": 33,
   "metadata": {},
   "outputs": [
    {
     "data": {
      "text/plain": [
       "0"
      ]
     },
     "execution_count": 33,
     "metadata": {},
     "output_type": "execute_result"
    }
   ],
   "source": [
    "# m4 = 2.8\n",
    "\n",
    "ma2_b1 = 0 \n",
    "\n",
    "ma2_b1"
   ]
  },
  {
   "cell_type": "markdown",
   "metadata": {},
   "source": [
    "##### ma3"
   ]
  },
  {
   "cell_type": "code",
   "execution_count": 34,
   "metadata": {},
   "outputs": [
    {
     "ename": "NameError",
     "evalue": "name 'front_r1_base_component' is not defined",
     "output_type": "error",
     "traceback": [
      "\u001B[0;31m---------------------------------------------------------------------------\u001B[0m",
      "\u001B[0;31mNameError\u001B[0m                                 Traceback (most recent call last)",
      "\u001B[0;32m<ipython-input-34-ec6c32a44b65>\u001B[0m in \u001B[0;36m<module>\u001B[0;34m\u001B[0m\n\u001B[1;32m      3\u001B[0m \u001B[0my\u001B[0m \u001B[0;34m=\u001B[0m \u001B[0mnp\u001B[0m\u001B[0;34m.\u001B[0m\u001B[0marray\u001B[0m\u001B[0;34m(\u001B[0m\u001B[0;34m[\u001B[0m\u001B[0;36m1\u001B[0m\u001B[0;34m,\u001B[0m \u001B[0;36m0\u001B[0m\u001B[0;34m]\u001B[0m\u001B[0;34m)\u001B[0m\u001B[0;34m\u001B[0m\u001B[0;34m\u001B[0m\u001B[0m\n\u001B[1;32m      4\u001B[0m \u001B[0;34m\u001B[0m\u001B[0m\n\u001B[0;32m----> 5\u001B[0;31m \u001B[0mma3_f1\u001B[0m \u001B[0;34m=\u001B[0m \u001B[0mnp\u001B[0m\u001B[0;34m.\u001B[0m\u001B[0minterp\u001B[0m\u001B[0;34m(\u001B[0m\u001B[0;34m(\u001B[0m\u001B[0mfloat\u001B[0m\u001B[0;34m(\u001B[0m\u001B[0mfront_r1_base_component\u001B[0m\u001B[0;34m[\u001B[0m\u001B[0;34m'value'\u001B[0m\u001B[0;34m]\u001B[0m\u001B[0;34m.\u001B[0m\u001B[0miloc\u001B[0m\u001B[0;34m[\u001B[0m\u001B[0;36m1\u001B[0m\u001B[0;34m]\u001B[0m\u001B[0;34m)\u001B[0m\u001B[0;34m)\u001B[0m\u001B[0;34m/\u001B[0m\u001B[0;36m100\u001B[0m\u001B[0;34m,\u001B[0m \u001B[0mx\u001B[0m\u001B[0;34m,\u001B[0m \u001B[0my\u001B[0m\u001B[0;34m)\u001B[0m\u001B[0;34m\u001B[0m\u001B[0;34m\u001B[0m\u001B[0m\n\u001B[0m\u001B[1;32m      6\u001B[0m \u001B[0;34m\u001B[0m\u001B[0m\n\u001B[1;32m      7\u001B[0m \u001B[0mma3_b1\u001B[0m\u001B[0;34m\u001B[0m\u001B[0;34m\u001B[0m\u001B[0m\n",
      "\u001B[0;31mNameError\u001B[0m: name 'front_r1_base_component' is not defined"
     ]
    }
   ],
   "source": [
    "# m5 = 0.0\n",
    "x = np.array([0, .25])\n",
    "y = np.array([1, 0])\n",
    "\n",
    "ma3_f1 = np.interp((float(front_r1_base_component['value'].iloc[1]))/100, x, y)\n",
    "\n",
    "ma3_b1"
   ]
  },
  {
   "cell_type": "markdown",
   "metadata": {},
   "source": [
    "##### ma4"
   ]
  },
  {
   "cell_type": "code",
   "execution_count": null,
   "metadata": {},
   "outputs": [],
   "source": [
    "# m6 = 0\n",
    "\n",
    "ma4_b1 = 0 \n",
    "\n",
    "ma4_b1"
   ]
  },
  {
   "cell_type": "markdown",
   "metadata": {},
   "source": [
    "##### ma5"
   ]
  },
  {
   "cell_type": "code",
   "execution_count": null,
   "metadata": {},
   "outputs": [],
   "source": [
    "# m7 = 1\n",
    "\n",
    "ma5_b1 = 0 \n",
    "\n",
    "ma5_b1"
   ]
  },
  {
   "cell_type": "markdown",
   "metadata": {},
   "source": [
    "##### ma6"
   ]
  },
  {
   "cell_type": "code",
   "execution_count": null,
   "metadata": {},
   "outputs": [],
   "source": [
    "#m8 = 0\n",
    "\n",
    "ma6_b1 = 0\n",
    "\n",
    "ma6_b1"
   ]
  },
  {
   "cell_type": "markdown",
   "metadata": {},
   "source": [
    "##### ma7"
   ]
  },
  {
   "cell_type": "code",
   "execution_count": null,
   "metadata": {},
   "outputs": [],
   "source": [
    "x = np.array([0.4, 0.5])\n",
    "y = np.array([1, 0])\n",
    "\n",
    "ma7_b1 = np.interp((float(back_r1_base_component['value'].iloc[4])), x, y)/float(back_r1_base_component['value'].iloc[12])\n",
    "ma7_b1"
   ]
  },
  {
   "cell_type": "markdown",
   "metadata": {},
   "source": [
    "##### ma8"
   ]
  },
  {
   "cell_type": "code",
   "execution_count": null,
   "metadata": {},
   "outputs": [],
   "source": [
    "x = np.array([0.4, 0.5])\n",
    "y = np.array([1, 0])\n",
    "\n",
    "ma8_b1 = np.interp((float(back_r1_base_component['value'].iloc[10])), x, y)/float(back_r1_base_component['value'].iloc[12])\n",
    "ma8_b1"
   ]
  },
  {
   "cell_type": "markdown",
   "metadata": {},
   "source": [
    "##### ma9"
   ]
  },
  {
   "cell_type": "code",
   "execution_count": null,
   "metadata": {},
   "outputs": [],
   "source": [
    "m14 = m15 = 8 # total de histórias de usuário // aceitas\n",
    "\n",
    "x = np.array([0.25, 0.1])\n",
    "y = np.array([1, 0])\n",
    "\n",
    "ma9_b1 = np.interp(float(m15), x, y)/m14\n",
    "\n",
    "ma9_b1"
   ]
  },
  {
   "cell_type": "markdown",
   "metadata": {},
   "source": [
    "##### ma10"
   ]
  },
  {
   "cell_type": "code",
   "execution_count": null,
   "metadata": {},
   "outputs": [],
   "source": [
    "TOTAL_CRIT_ACEIT_BACK_R1 = 13\n",
    "TOTAL_CRIT_ACEIT_ATEND_BACK_R1 = 9\n",
    "m16 = TOTAL_CRIT_ACEIT_BACK_R1 / m14 # TOTAL DE CRITEIROS DE ACEITACAO POR HISTORIA\n",
    "m17 = TOTAL_CRIT_ACEIT_ATEND_BACK_R1 / m14 # TOTAL DE CRITEIROS DE ACEITACAO POR HISTORIA ATENDIDAS\n",
    "\n",
    "x = np.array([0.5, 1])\n",
    "y = np.array([1, 0])\n",
    "\n",
    "ma10_b1 = np.interp((m17/m16), x, y)/m14\n",
    "\n",
    "ma10_b1"
   ]
  },
  {
   "cell_type": "markdown",
   "metadata": {},
   "source": [
    "### Ponderação e Agregação na SubCaracterística"
   ]
  },
  {
   "cell_type": "markdown",
   "metadata": {},
   "source": [
    "##### asc1"
   ]
  },
  {
   "cell_type": "code",
   "execution_count": null,
   "metadata": {},
   "outputs": [],
   "source": [
    "psc1 = 0.33\n",
    "pma1 = 0.33\n",
    "pma2 = 0.33\n",
    "pma3 = 0.33\n",
    "\n",
    "asc1_b1 = ((ma1_b1*pma1)+(ma2_b1*pma2)+(ma3_b1*pma3))*psc1\n",
    "asc1_b1 #Modificabilidade"
   ]
  },
  {
   "cell_type": "markdown",
   "metadata": {},
   "source": [
    "##### asc2"
   ]
  },
  {
   "cell_type": "code",
   "execution_count": null,
   "metadata": {},
   "outputs": [],
   "source": [
    "psc2 = 0.33\n",
    "pma4 = 1\n",
    "\n",
    "asc2_b1 = (ma4_b1*pma4)*psc2\n",
    "asc2_b1 #Testabilidade"
   ]
  },
  {
   "cell_type": "markdown",
   "metadata": {},
   "source": [
    "##### asc3"
   ]
  },
  {
   "cell_type": "code",
   "execution_count": null,
   "metadata": {},
   "outputs": [],
   "source": [
    "ps3 = 0.33\n",
    "pma5 = 1\n",
    "\n",
    "asc3_b1 = (ma5_b1*pma5)*ps3\n",
    "asc3_b1 #Dívida Técnica(Sqale)"
   ]
  },
  {
   "cell_type": "markdown",
   "metadata": {},
   "source": [
    "##### asc4"
   ]
  },
  {
   "cell_type": "code",
   "execution_count": null,
   "metadata": {},
   "outputs": [],
   "source": [
    "psc4 = 1\n",
    "pma6 = 0.5\n",
    "pma7 = 0.5\n",
    "\n",
    "asc4_b1 = ((ma6_b1*pma6) + (ma7_b1*pma7)) * psc4\n",
    "\n",
    "asc4_b1 #Maturidade"
   ]
  },
  {
   "cell_type": "markdown",
   "metadata": {},
   "source": [
    "##### asc5"
   ]
  },
  {
   "cell_type": "code",
   "execution_count": null,
   "metadata": {},
   "outputs": [],
   "source": [
    "psc5 = 1\n",
    "pma8 = 1\n",
    "\n",
    "asc5_b1 = ((ma8_b1*pma8)) * psc5\n",
    "\n",
    "asc5_b1 #Integridade"
   ]
  },
  {
   "cell_type": "markdown",
   "metadata": {},
   "source": [
    "##### asc6"
   ]
  },
  {
   "cell_type": "code",
   "execution_count": null,
   "metadata": {},
   "outputs": [],
   "source": [
    "psc6 = 0.5\n",
    "pma9 = 1\n",
    "\n",
    "asc6_b1 = ((ma9_b1*pma9)) * psc6\n",
    "\n",
    "asc6_b1 #Completude Funcional"
   ]
  },
  {
   "cell_type": "markdown",
   "metadata": {},
   "source": [
    "##### asc7"
   ]
  },
  {
   "cell_type": "code",
   "execution_count": null,
   "metadata": {},
   "outputs": [],
   "source": [
    "psc7 = 0.5\n",
    "pma10 = 1\n",
    "\n",
    "asc7_b1 = ((ma10_b1*pma10)) * psc7\n",
    "\n",
    "asc7_b1 #Corretude Funcional"
   ]
  },
  {
   "cell_type": "markdown",
   "metadata": {},
   "source": [
    "### Ponderação e Agregação na Característica"
   ]
  },
  {
   "cell_type": "markdown",
   "metadata": {},
   "source": [
    "##### ac1"
   ]
  },
  {
   "cell_type": "code",
   "execution_count": null,
   "metadata": {},
   "outputs": [],
   "source": [
    "pc1 = 0.2\n",
    "\n",
    "ac1_b1 = (asc1_b1 + asc2_b1 + asc3_b1)*pc1\n",
    "ac1_b1 #Manutenibilidade"
   ]
  },
  {
   "cell_type": "markdown",
   "metadata": {},
   "source": [
    "##### ac2"
   ]
  },
  {
   "cell_type": "code",
   "execution_count": null,
   "metadata": {},
   "outputs": [],
   "source": [
    "pc2 = 0.2\n",
    "\n",
    "ac2_b1 = asc4_b1 * pc2\n",
    "\n",
    "ac2_b1 #Confiabilidade"
   ]
  },
  {
   "cell_type": "markdown",
   "metadata": {},
   "source": [
    "##### ac3"
   ]
  },
  {
   "cell_type": "code",
   "execution_count": null,
   "metadata": {},
   "outputs": [],
   "source": [
    "pc3 = 0.2\n",
    "\n",
    "ac3_b1 = asc5_b1 * pc3\n",
    "\n",
    "ac3_b1 #Segurança"
   ]
  },
  {
   "cell_type": "markdown",
   "metadata": {},
   "source": [
    "##### ac4"
   ]
  },
  {
   "cell_type": "code",
   "execution_count": null,
   "metadata": {},
   "outputs": [],
   "source": [
    "pc4 = 0.4\n",
    "\n",
    "ac4_b1 = (asc6_b1 + asc6_b1) * pc4\n",
    "\n",
    "ac4_b1 #Segurança"
   ]
  },
  {
   "cell_type": "markdown",
   "metadata": {},
   "source": [
    "#### Front-end"
   ]
  },
  {
   "cell_type": "code",
   "execution_count": null,
   "metadata": {},
   "outputs": [],
   "source": [
    "front_r1 = json.load(open('../data/front_r1.json'))"
   ]
  },
  {
   "cell_type": "code",
   "execution_count": null,
   "metadata": {
    "scrolled": true
   },
   "outputs": [],
   "source": [
    "front_r1_base_component = pd.DataFrame(front_r1['baseComponent']['measures'])"
   ]
  },
  {
   "cell_type": "code",
   "execution_count": null,
   "metadata": {},
   "outputs": [],
   "source": [
    "front_r1_base_component"
   ]
  },
  {
   "cell_type": "code",
   "execution_count": null,
   "metadata": {},
   "outputs": [],
   "source": [
    "front_r1_path = []\n",
    "front_r1_qualifier = []\n",
    "front_r1_reliability_rating = []\n",
    "front_r1_complexity = []\n",
    "front_r1_functions = []\n",
    "front_r1_security_rating = []\n",
    "front_r1_comment_lines_density = []\n",
    "front_r1_sqale_rating = []\n",
    "front_r1_comment_lines = []\n",
    "front_r1_ncloc = []\n",
    "front_r1_files = []\n",
    "front_r1_open_issues = []\n",
    "front_r1_bugs = []\n",
    "front_r1_test_success_density = []\n",
    "front_r1_vulnerabilities = []\n",
    "front_r1_duplicated_lines_density = []\n",
    "\n",
    "\n",
    "\n",
    "for i in range(len(front_r1['components'])):\n",
    "    front_r1_path.append(front_r1['components'][i]['path'])\n",
    "    front_r1_qualifier.append(front_r1['components'][i]['qualifier'])\n",
    "    for j in range(len(front_r1['components'][i]['measures'])-1):\n",
    "        if front_r1['components'][i]['measures'][j]['metric'] == 'reliability_rating':\n",
    "            front_r1_reliability_rating.append(front_r1['components'][i]['measures'][j]['value'])\n",
    "        if front_r1['components'][i]['measures'][j]['metric'] == 'complexity':\n",
    "            front_r1_complexity.append(front_r1['components'][i]['measures'][j]['value'])\n",
    "        if front_r1['components'][i]['measures'][j]['metric'] == 'functions':\n",
    "            front_r1_functions.append(front_r1['components'][i]['measures'][j]['value'])\n",
    "        if front_r1['components'][i]['measures'][j]['metric'] == 'security_rating':\n",
    "            front_r1_security_rating.append(front_r1['components'][i]['measures'][j]['value'])\n",
    "        if front_r1['components'][i]['measures'][j]['metric'] == 'comment_lines_density':\n",
    "            front_r1_comment_lines_density.append(front_r1['components'][i]['measures'][j]['value'])\n",
    "        if front_r1['components'][i]['measures'][j]['metric'] == 'sqale_rating':\n",
    "            front_r1_sqale_rating.append(front_r1['components'][i]['measures'][j]['value'])\n",
    "        if front_r1['components'][i]['measures'][j]['metric'] == 'comment_lines':\n",
    "            front_r1_comment_lines.append(front_r1['components'][i]['measures'][j]['value'])\n",
    "        if front_r1['components'][i]['measures'][j]['metric'] == 'ncloc':\n",
    "            front_r1_ncloc.append(front_r1['components'][i]['measures'][j]['value'])\n",
    "        if front_r1['components'][i]['measures'][j]['metric'] == 'files':\n",
    "            front_r1_files.append(front_r1['components'][i]['measures'][j]['value'])\n",
    "        if front_r1['components'][i]['measures'][j]['metric'] == 'open_issues':\n",
    "            front_r1_open_issues.append(front_r1['components'][i]['measures'][j]['value'])\n",
    "        if front_r1['components'][i]['measures'][j]['metric'] == 'bugs':\n",
    "            front_r1_bugs.append(front_r1['components'][i]['measures'][j]['value'])\n",
    "        if front_r1['components'][i]['measures'][j]['metric'] == 'test_success_density':\n",
    "            front_r1_test_success_density.append(front_r1['components'][i]['measures'][j]['value'])\n",
    "        if front_r1['components'][i]['measures'][j]['metric'] == 'vulnerabilities':\n",
    "            front_r1_vulnerabilities.append(front_r1['components'][i]['measures'][j]['value'])\n",
    "        if front_r1['components'][i]['measures'][j]['metric'] == 'duplicated_lines_density':\n",
    "            front_r1_duplicated_lines_density.append(front_r1['components'][i]['measures'][j]['value'])\n",
    "        \n",
    "front_r1_df = [front_r1_path,\n",
    "              front_r1_qualifier,\n",
    "              front_r1_reliability_rating,\n",
    "              front_r1_complexity,\n",
    "              front_r1_functions,\n",
    "              front_r1_security_rating,\n",
    "              front_r1_comment_lines_density,\n",
    "              front_r1_sqale_rating,\n",
    "              front_r1_comment_lines,\n",
    "              front_r1_ncloc,\n",
    "              front_r1_files,\n",
    "              front_r1_open_issues,\n",
    "              front_r1_bugs,\n",
    "              front_r1_test_success_density,\n",
    "              front_r1_vulnerabilities,\n",
    "              front_r1_duplicated_lines_density]"
   ]
  },
  {
   "cell_type": "code",
   "execution_count": null,
   "metadata": {},
   "outputs": [],
   "source": [
    "front_r1_df = pd.DataFrame(front_r1_df).T\n",
    "front_r1_df.columns = col_r1\n",
    "front_r1_df"
   ]
  },
  {
   "cell_type": "code",
   "execution_count": null,
   "metadata": {
    "scrolled": true
   },
   "outputs": [],
   "source": [
    "front_r1_df = front_r1_df[front_r1_df['qualifier'] == 'FIL'].reset_index(drop=True)\n",
    "front_r1_df"
   ]
  },
  {
   "cell_type": "markdown",
   "metadata": {},
   "source": [
    "### Função de Interpretação e Normalização (fórmulas)"
   ]
  },
  {
   "cell_type": "markdown",
   "metadata": {},
   "source": [
    "##### ma1"
   ]
  },
  {
   "cell_type": "code",
   "execution_count": null,
   "metadata": {},
   "outputs": [],
   "source": [
    "complexity_notnull = front_r1_df['complexity'][pd.notnull(front_r1_df['complexity'])]\n",
    "median_complexity = np.median(complexity_notnull.astype(float))\n",
    "median_complexity"
   ]
  },
  {
   "cell_type": "code",
   "execution_count": null,
   "metadata": {},
   "outputs": [],
   "source": [
    "complexity = front_r1_df[['complexity', 'functions']][(front_r1_df['complexity'].astype(float) <= median_complexity) & (front_r1_df['functions'].astype(float) > 0) ]\n",
    "complexity"
   ]
  },
  {
   "cell_type": "code",
   "execution_count": null,
   "metadata": {},
   "outputs": [],
   "source": [
    "fi1 = 0\n",
    "\n",
    "x = np.array([0, median_complexity])\n",
    "y = np.array([1, 0])\n",
    "\n",
    "for i in range(len(complexity)):\n",
    "    fi1 += (np.interp(float(complexity['complexity'].iloc[i])/float(complexity['functions'].iloc[i]), x, y))\n",
    "\n",
    "ma1_f1 = fi1/float(len(front_r1_df['complexity']))\n",
    "\n",
    "ma1_f1"
   ]
  },
  {
   "cell_type": "markdown",
   "metadata": {},
   "source": [
    "##### ma2"
   ]
  },
  {
   "cell_type": "code",
   "execution_count": null,
   "metadata": {},
   "outputs": [],
   "source": [
    "# m4 = 3.6\n",
    "\n",
    "ma2_f1 = 0 \n",
    "\n",
    "ma2_f1"
   ]
  },
  {
   "cell_type": "markdown",
   "metadata": {},
   "source": [
    "##### ma3"
   ]
  },
  {
   "cell_type": "code",
   "execution_count": null,
   "metadata": {},
   "outputs": [],
   "source": [
    "# m5 = 0.0\n",
    "\n",
    "ma3_f1 = 0 \n",
    "\n",
    "ma3_f1"
   ]
  },
  {
   "cell_type": "markdown",
   "metadata": {},
   "source": [
    "##### ma4"
   ]
  },
  {
   "cell_type": "code",
   "execution_count": null,
   "metadata": {},
   "outputs": [],
   "source": [
    "# m6 = 0\n",
    "\n",
    "ma4_f1 = 0 \n",
    "\n",
    "ma4_f1"
   ]
  },
  {
   "cell_type": "markdown",
   "metadata": {},
   "source": [
    "##### ma5"
   ]
  },
  {
   "cell_type": "code",
   "execution_count": null,
   "metadata": {},
   "outputs": [],
   "source": [
    "# m7 = 1\n",
    "\n",
    "ma5_f1 = 0 \n",
    "\n",
    "ma5_f1"
   ]
  },
  {
   "cell_type": "markdown",
   "metadata": {},
   "source": [
    "##### ma6"
   ]
  },
  {
   "cell_type": "code",
   "execution_count": null,
   "metadata": {},
   "outputs": [],
   "source": [
    "#m8 = 0\n",
    "\n",
    "ma6_f1 = 0\n",
    "\n",
    "ma6_f1"
   ]
  },
  {
   "cell_type": "markdown",
   "metadata": {},
   "source": [
    "##### ma7"
   ]
  },
  {
   "cell_type": "code",
   "execution_count": null,
   "metadata": {},
   "outputs": [],
   "source": [
    "x = np.array([0.0, 0.1])\n",
    "y = np.array([1, 0])\n",
    "\n",
    "ma7_f1 = np.interp((float(front_r1_base_component['value'].iloc[4])), x, y)/float(front_r1_base_component['value'].iloc[12])\n",
    "ma7_f1"
   ]
  },
  {
   "cell_type": "markdown",
   "metadata": {},
   "source": [
    "##### ma8"
   ]
  },
  {
   "cell_type": "code",
   "execution_count": null,
   "metadata": {},
   "outputs": [],
   "source": [
    "x = np.array([0.0, 0.15])\n",
    "y = np.array([1, 0])\n",
    "\n",
    "ma8_f1 = np.interp((float(front_r1_base_component['value'].iloc[10])), x, y)/float(front_r1_base_component['value'].iloc[12])\n",
    "ma8_f1"
   ]
  },
  {
   "cell_type": "markdown",
   "metadata": {},
   "source": [
    "##### ma9"
   ]
  },
  {
   "cell_type": "code",
   "execution_count": null,
   "metadata": {},
   "outputs": [],
   "source": [
    "m14 = m15 = 8 # total de histórias de usuário // aceitas\n",
    "\n",
    "x = np.array([0.25, 0.1])\n",
    "y = np.array([1, 0])\n",
    "\n",
    "ma9_f1 = np.interp(float(m15), x, y)/m14\n",
    "\n",
    "ma9_f1"
   ]
  },
  {
   "cell_type": "markdown",
   "metadata": {},
   "source": [
    "##### ma10"
   ]
  },
  {
   "cell_type": "code",
   "execution_count": null,
   "metadata": {},
   "outputs": [],
   "source": [
    "TOTAL_CRIT_ACEIT_FRONT_R1 = 13\n",
    "TOTAL_CRIT_ACEIT_ATEND_FRONT_R1 = 9\n",
    "m16 = TOTAL_CRIT_ACEIT_FRONT_R1 / m14 # TOTAL DE CRITEIROS DE ACEITACAO POR HISTORIA\n",
    "m17 = TOTAL_CRIT_ACEIT_ATEND_FRONT_R1 / m14 # TOTAL DE CRITEIROS DE ACEITACAO POR HISTORIA ATENDIDAS\n",
    "\n",
    "x = np.array([0.5, 1])\n",
    "y = np.array([1, 0])\n",
    "\n",
    "ma10_f1 = np.interp((m17/m16), x, y)/m14\n",
    "\n",
    "ma10_f1"
   ]
  },
  {
   "cell_type": "markdown",
   "metadata": {},
   "source": [
    "### Ponderação e Agregação na SubCaracterística"
   ]
  },
  {
   "cell_type": "markdown",
   "metadata": {},
   "source": [
    "##### asc1"
   ]
  },
  {
   "cell_type": "code",
   "execution_count": null,
   "metadata": {},
   "outputs": [],
   "source": [
    "psc1 = 0.33\n",
    "pma1 = 0.33\n",
    "pma2 = 0.33\n",
    "pma3 = 0.33\n",
    "\n",
    "asc1_f1 = ((ma1_f1*pma1)+(ma2_f1*pma2)+(ma3_f1*pma3))*psc1\n",
    "asc1_f1 #Modificabilidade"
   ]
  },
  {
   "cell_type": "markdown",
   "metadata": {},
   "source": [
    "##### asc2"
   ]
  },
  {
   "cell_type": "code",
   "execution_count": null,
   "metadata": {},
   "outputs": [],
   "source": [
    "psc2 = 0.33\n",
    "pma4 = 1\n",
    "\n",
    "asc2_f1 = (ma4_f1*pma4)*psc2\n",
    "asc2_f1 #Testabilidade"
   ]
  },
  {
   "cell_type": "markdown",
   "metadata": {},
   "source": [
    "##### asc3"
   ]
  },
  {
   "cell_type": "code",
   "execution_count": null,
   "metadata": {},
   "outputs": [],
   "source": [
    "ps3 = 0.33\n",
    "pma5 = 1\n",
    "\n",
    "asc3_f1 = (ma5_f1*pma5)*ps3\n",
    "asc3_f1 #Dívida Técnica(Sqale)"
   ]
  },
  {
   "cell_type": "markdown",
   "metadata": {},
   "source": [
    "##### asc4"
   ]
  },
  {
   "cell_type": "code",
   "execution_count": null,
   "metadata": {},
   "outputs": [],
   "source": [
    "psc4 = 1\n",
    "pma6 = 0.5\n",
    "pma7 = 0.5\n",
    "\n",
    "asc4_f1 = ((ma6_f1*pma6) + (ma7_f1*pma7)) * psc4\n",
    "\n",
    "asc4_f1 #Maturidade"
   ]
  },
  {
   "cell_type": "markdown",
   "metadata": {},
   "source": [
    "##### asc5"
   ]
  },
  {
   "cell_type": "code",
   "execution_count": null,
   "metadata": {},
   "outputs": [],
   "source": [
    "psc5 = 1\n",
    "pma8 = 1\n",
    "\n",
    "asc5_f1 = ((ma8_f1*pma8)) * psc5\n",
    "\n",
    "asc5_f1 #Integridade"
   ]
  },
  {
   "cell_type": "markdown",
   "metadata": {},
   "source": [
    "##### asc6"
   ]
  },
  {
   "cell_type": "code",
   "execution_count": null,
   "metadata": {},
   "outputs": [],
   "source": [
    "psc6 = 0.5\n",
    "pma9 = 1\n",
    "\n",
    "asc6_f1 = ((ma9_f1*pma9)) * psc6\n",
    "\n",
    "asc6_f1 #Completude Funcional"
   ]
  },
  {
   "cell_type": "markdown",
   "metadata": {},
   "source": [
    "##### asc7"
   ]
  },
  {
   "cell_type": "code",
   "execution_count": null,
   "metadata": {},
   "outputs": [],
   "source": [
    "psc7 = 0.5\n",
    "pma10 = 1\n",
    "\n",
    "asc7_f1 = ((ma10_f1*pma10)) * psc7\n",
    "\n",
    "asc7_f1 #Corretude Funcional"
   ]
  },
  {
   "cell_type": "markdown",
   "metadata": {},
   "source": [
    "### Ponderação e Agregação na Característica"
   ]
  },
  {
   "cell_type": "markdown",
   "metadata": {},
   "source": [
    "##### ac1"
   ]
  },
  {
   "cell_type": "code",
   "execution_count": null,
   "metadata": {},
   "outputs": [],
   "source": [
    "pc1 = 0.2\n",
    "\n",
    "ac1_f1 = (asc1_f1 + asc2_f1 + asc3_f1)*pc1\n",
    "ac1_f1 #Manutenibilidade"
   ]
  },
  {
   "cell_type": "markdown",
   "metadata": {},
   "source": [
    "##### ac2"
   ]
  },
  {
   "cell_type": "code",
   "execution_count": null,
   "metadata": {},
   "outputs": [],
   "source": [
    "pc2 = 0.2\n",
    "\n",
    "ac2_f1 = asc4_f1 * pc2\n",
    "\n",
    "ac2_f1 #Confiabilidade"
   ]
  },
  {
   "cell_type": "markdown",
   "metadata": {},
   "source": [
    "##### ac3"
   ]
  },
  {
   "cell_type": "code",
   "execution_count": null,
   "metadata": {},
   "outputs": [],
   "source": [
    "pc3 = 0.2\n",
    "\n",
    "ac3_f1 = asc5_f1 * pc3\n",
    "\n",
    "ac3_f1 #Segurança"
   ]
  },
  {
   "cell_type": "markdown",
   "metadata": {},
   "source": [
    "##### ac4"
   ]
  },
  {
   "cell_type": "code",
   "execution_count": null,
   "metadata": {},
   "outputs": [],
   "source": [
    "pc4 = 0.4\n",
    "\n",
    "ac4_f1 = (asc6_f1 + asc6_f1) * pc4\n",
    "\n",
    "ac4_f1 #Segurança"
   ]
  },
  {
   "cell_type": "markdown",
   "metadata": {},
   "source": [
    "## R2"
   ]
  },
  {
   "cell_type": "markdown",
   "metadata": {},
   "source": [
    "#### Back-end"
   ]
  },
  {
   "cell_type": "code",
   "execution_count": null,
   "metadata": {},
   "outputs": [],
   "source": [
    "back_r2 = json.load(open('../data/back_r2.json'))"
   ]
  },
  {
   "cell_type": "code",
   "execution_count": null,
   "metadata": {},
   "outputs": [],
   "source": [
    "back_r2_base_component = pd.DataFrame(back_r2['baseComponent']['measures'])"
   ]
  },
  {
   "cell_type": "code",
   "execution_count": null,
   "metadata": {},
   "outputs": [],
   "source": [
    "back_r2_base_component"
   ]
  },
  {
   "cell_type": "code",
   "execution_count": null,
   "metadata": {},
   "outputs": [],
   "source": [
    "back_r2_path = []\n",
    "back_r2_qualifier = []\n",
    "back_r2_reliability_rating = []\n",
    "back_r2_complexity = []\n",
    "back_r2_functions = []\n",
    "back_r2_security_rating = []\n",
    "back_r2_comment_lines_density = []\n",
    "back_r2_sqale_rating = []\n",
    "back_r2_comment_lines = []\n",
    "back_r2_ncloc = []\n",
    "back_r2_files = []\n",
    "back_r2_open_issues = []\n",
    "back_r2_bugs = []\n",
    "back_r2_test_success_density = []\n",
    "back_r2_vulnerabilities = []\n",
    "back_r2_duplicated_lines_density = []\n",
    "back_r2_coverage = []\n",
    "\n",
    "\n",
    "\n",
    "for i in range(len(back_r2['components'])):\n",
    "    back_r2_path.append(back_r2['components'][i]['path'])\n",
    "    back_r2_qualifier.append(back_r2['components'][i]['qualifier'])\n",
    "    for j in range(len(back_r2['components'][i]['measures'])-1):\n",
    "        if back_r2['components'][i]['measures'][j]['metric'] == 'reliability_rating':\n",
    "            back_r2_reliability_rating.append(back_r2['components'][i]['measures'][j]['value'])\n",
    "        if back_r2['components'][i]['measures'][j]['metric'] == 'complexity':\n",
    "            back_r2_complexity.append(back_r2['components'][i]['measures'][j]['value'])\n",
    "        if back_r2['components'][i]['measures'][j]['metric'] == 'functions':\n",
    "            back_r2_functions.append(back_r2['components'][i]['measures'][j]['value'])\n",
    "        if back_r2['components'][i]['measures'][j]['metric'] == 'security_rating':\n",
    "            back_r2_security_rating.append(back_r2['components'][i]['measures'][j]['value'])\n",
    "        if back_r2['components'][i]['measures'][j]['metric'] == 'comment_lines_density':\n",
    "            back_r2_comment_lines_density.append(back_r2['components'][i]['measures'][j]['value'])\n",
    "        if back_r2['components'][i]['measures'][j]['metric'] == 'sqale_rating':\n",
    "            back_r2_sqale_rating.append(back_r2['components'][i]['measures'][j]['value'])\n",
    "        if back_r2['components'][i]['measures'][j]['metric'] == 'comment_lines':\n",
    "            back_r2_comment_lines.append(back_r2['components'][i]['measures'][j]['value'])\n",
    "        if back_r2['components'][i]['measures'][j]['metric'] == 'ncloc':\n",
    "            back_r2_ncloc.append(back_r2['components'][i]['measures'][j]['value'])\n",
    "        if back_r2['components'][i]['measures'][j]['metric'] == 'files':\n",
    "            back_r2_files.append(back_r2['components'][i]['measures'][j]['value'])\n",
    "        if back_r2['components'][i]['measures'][j]['metric'] == 'open_issues':\n",
    "            back_r2_open_issues.append(back_r2['components'][i]['measures'][j]['value'])\n",
    "        if back_r2['components'][i]['measures'][j]['metric'] == 'bugs':\n",
    "            back_r2_bugs.append(back_r2['components'][i]['measures'][j]['value'])\n",
    "        if back_r2['components'][i]['measures'][j]['metric'] == 'test_success_density':\n",
    "            back_r2_test_success_density.append(back_r2['components'][i]['measures'][j]['value'])\n",
    "        if back_r2['components'][i]['measures'][j]['metric'] == 'vulnerabilities':\n",
    "            back_r2_vulnerabilities.append(back_r2['components'][i]['measures'][j]['value'])\n",
    "        if back_r2['components'][i]['measures'][j]['metric'] == 'duplicated_lines_density':\n",
    "            back_r2_duplicated_lines_density.append(back_r2['components'][i]['measures'][j]['value'])\n",
    "        if back_r2['components'][i]['measures'][j]['metric'] == 'coverage':\n",
    "            back_r2_coverage.append(back_r2['components'][i]['measures'][j]['value'])\n",
    "        \n",
    "back_r2_df = [back_r2_path,\n",
    "              back_r2_qualifier,\n",
    "              back_r2_reliability_rating,\n",
    "              back_r2_complexity,\n",
    "              back_r2_functions,\n",
    "              back_r2_security_rating,\n",
    "              back_r2_comment_lines_density,\n",
    "              back_r2_sqale_rating,\n",
    "              back_r2_comment_lines,\n",
    "              back_r2_ncloc,\n",
    "              back_r2_files,\n",
    "              back_r2_open_issues,\n",
    "              back_r2_bugs,\n",
    "              back_r2_test_success_density,\n",
    "              back_r2_vulnerabilities,\n",
    "              back_r2_duplicated_lines_density,\n",
    "              back_r2_coverage]"
   ]
  },
  {
   "cell_type": "code",
   "execution_count": null,
   "metadata": {},
   "outputs": [],
   "source": [
    "back_r2_df = pd.DataFrame(back_r2_df).T\n",
    "back_r2_df.columns = col_r2\n",
    "back_r2_df"
   ]
  },
  {
   "cell_type": "code",
   "execution_count": null,
   "metadata": {},
   "outputs": [],
   "source": [
    "back_r2_df = back_r2_df[back_r2_df['qualifier'] == 'FIL'].reset_index(drop=True)\n",
    "back_r2_df"
   ]
  },
  {
   "cell_type": "markdown",
   "metadata": {},
   "source": [
    "### Função de Interpretação e Normalização (fórmulas)"
   ]
  },
  {
   "cell_type": "markdown",
   "metadata": {},
   "source": [
    "##### ma1"
   ]
  },
  {
   "cell_type": "code",
   "execution_count": null,
   "metadata": {},
   "outputs": [],
   "source": [
    "complexity_notnull = back_r2_df['complexity'][pd.notnull(back_r2_df['complexity'])]\n",
    "median_complexity = np.median(complexity_notnull.astype(float))\n",
    "median_complexity"
   ]
  },
  {
   "cell_type": "code",
   "execution_count": null,
   "metadata": {},
   "outputs": [],
   "source": [
    "complexity = back_r2_df[['complexity', 'functions']][(back_r2_df['complexity'].astype(float) <= median_complexity) & (back_r2_df['functions'].astype(float) > 0) ]\n",
    "complexity\n"
   ]
  },
  {
   "cell_type": "code",
   "execution_count": null,
   "metadata": {},
   "outputs": [],
   "source": [
    "fi1 = 0\n",
    "\n",
    "x = np.array([0, median_complexity])\n",
    "y = np.array([1, 0])\n",
    "\n",
    "for i in range(len(complexity)):\n",
    "    fi1 += (np.interp(float(complexity['complexity'].iloc[i])/float(complexity['functions'].iloc[i]), x, y))\n",
    "\n",
    "ma1_b2 = fi1/float(len(back_r2_df['complexity']))\n",
    "\n",
    "ma1_b2"
   ]
  },
  {
   "cell_type": "markdown",
   "metadata": {},
   "source": [
    "##### ma2"
   ]
  },
  {
   "cell_type": "code",
   "execution_count": null,
   "metadata": {},
   "outputs": [],
   "source": [
    "# m4 = 2.4\n",
    "\n",
    "ma2_b2 = 0 \n",
    "\n",
    "ma2_b2"
   ]
  },
  {
   "cell_type": "markdown",
   "metadata": {},
   "source": [
    "##### ma3"
   ]
  },
  {
   "cell_type": "code",
   "execution_count": null,
   "metadata": {},
   "outputs": [],
   "source": [
    "x = np.array([0.1, 0.2])\n",
    "y = np.array([1, 0])\n",
    "\n",
    "# m5 = 13\n",
    "ma3_b2 = np.interp((float(back_r2_base_component['value'].iloc[0]))/100, x, y)\n",
    "\n",
    "ma3_b2"
   ]
  },
  {
   "cell_type": "markdown",
   "metadata": {},
   "source": [
    "##### ma4"
   ]
  },
  {
   "cell_type": "code",
   "execution_count": null,
   "metadata": {},
   "outputs": [],
   "source": [
    "coverage_df = back_r2_df[back_r2_df['coverage'].astype(float) > 90]"
   ]
  },
  {
   "cell_type": "code",
   "execution_count": null,
   "metadata": {},
   "outputs": [],
   "source": [
    "fi4 = 0\n",
    "\n",
    "for i in range(len(coverage_df)):\n",
    "    fi4 += (np.interp(float(coverage_df['coverage'].iloc[i])/100, x, y))"
   ]
  },
  {
   "cell_type": "code",
   "execution_count": null,
   "metadata": {},
   "outputs": [],
   "source": [
    "x = np.array([0, 0.9])\n",
    "y = np.array([1, 0])\n",
    "\n",
    "# m6 = 91.7\n",
    "\n",
    "ma4_b2 = fi4/float(len(back_r2_df['complexity']))\n",
    "\n",
    "ma4_b2"
   ]
  },
  {
   "cell_type": "markdown",
   "metadata": {},
   "source": [
    "##### ma5"
   ]
  },
  {
   "cell_type": "code",
   "execution_count": null,
   "metadata": {},
   "outputs": [],
   "source": [
    "# m7 = 1\n",
    "\n",
    "ma5_b2 = 0\n",
    "\n",
    "ma5_b2"
   ]
  },
  {
   "cell_type": "markdown",
   "metadata": {},
   "source": [
    "##### ma6"
   ]
  },
  {
   "cell_type": "code",
   "execution_count": null,
   "metadata": {},
   "outputs": [],
   "source": [
    "#m8 = 100\n",
    "\n",
    "ma6_b2 = 0\n",
    "\n",
    "ma6_b2"
   ]
  },
  {
   "cell_type": "markdown",
   "metadata": {},
   "source": [
    "##### ma7"
   ]
  },
  {
   "cell_type": "code",
   "execution_count": null,
   "metadata": {},
   "outputs": [],
   "source": [
    "x = np.array([0.0, 0.1])\n",
    "y = np.array([1, 0])\n",
    "\n",
    "ma7_b2 = np.interp((float(back_r2_base_component['value'].iloc[7])), x, y)/float(back_r2_base_component['value'].iloc[13])\n",
    "ma7_b2"
   ]
  },
  {
   "cell_type": "markdown",
   "metadata": {},
   "source": [
    "##### ma8"
   ]
  },
  {
   "cell_type": "code",
   "execution_count": null,
   "metadata": {},
   "outputs": [],
   "source": [
    "x = np.array([0.0, 0.15])\n",
    "y = np.array([1, 0])\n",
    "\n",
    "ma8_b2 = np.interp((float(back_r2_base_component['value'].iloc[12])), x, y)/float(back_r2_base_component['value'].iloc[13])\n",
    "ma8_b2"
   ]
  },
  {
   "cell_type": "markdown",
   "metadata": {},
   "source": [
    "##### ma9"
   ]
  },
  {
   "cell_type": "code",
   "execution_count": null,
   "metadata": {},
   "outputs": [],
   "source": [
    "m14 = m15 = 15 # total de histórias de usuário // aceitas\n",
    "\n",
    "x = np.array([0.25, 0.1])\n",
    "y = np.array([1, 0])\n",
    "\n",
    "ma9_b2 = np.interp(float(m15), x, y)/m14\n",
    "\n",
    "ma9_b2"
   ]
  },
  {
   "cell_type": "markdown",
   "metadata": {},
   "source": [
    "##### ma10"
   ]
  },
  {
   "cell_type": "code",
   "execution_count": null,
   "metadata": {},
   "outputs": [],
   "source": [
    "TOTAL_CRIT_ACEIT_BACK_R2 = 27\n",
    "TOTAL_CRIT_ACEIT_ATEND_BACK_R2 = 19\n",
    "\n",
    "m16 = TOTAL_CRIT_ACEIT_BACK_R2 / m14 # TOTAL DE CRITEIROS DE ACEITACAO POR HISTORIA\n",
    "m17 = TOTAL_CRIT_ACEIT_ATEND_BACK_R2 / m14 # TOTAL DE CRITEIROS DE ACEITACAO POR HISTORIA ATENDIDAS\n",
    "\n",
    "x = np.array([0.5, 1])\n",
    "y = np.array([1, 0])\n",
    "\n",
    "ma10_b2 = np.interp((m17/m16), x, y)/m14\n",
    "\n",
    "ma10_b2"
   ]
  },
  {
   "cell_type": "markdown",
   "metadata": {},
   "source": [
    "### Ponderação e Agregação na SubCaracterística"
   ]
  },
  {
   "cell_type": "markdown",
   "metadata": {},
   "source": [
    "##### asc1"
   ]
  },
  {
   "cell_type": "code",
   "execution_count": null,
   "metadata": {},
   "outputs": [],
   "source": [
    "psc1 = 0.33\n",
    "pma1 = 0.33\n",
    "pma2 = 0.33\n",
    "pma3 = 0.33\n",
    "\n",
    "asc1_b2 = ((ma1_b2*pma1)+(ma2_b2*pma2)+(ma3_b2*pma3))*psc1\n",
    "asc1_b2 #Modificabilidade"
   ]
  },
  {
   "cell_type": "markdown",
   "metadata": {},
   "source": [
    "##### asc2"
   ]
  },
  {
   "cell_type": "code",
   "execution_count": null,
   "metadata": {},
   "outputs": [],
   "source": [
    "psc2 = 0.33\n",
    "pma4 = 1\n",
    "\n",
    "asc2_b2 = (ma4_b2*pma4)*psc2\n",
    "asc2_b2 #Testabilidade"
   ]
  },
  {
   "cell_type": "markdown",
   "metadata": {},
   "source": [
    "##### asc3"
   ]
  },
  {
   "cell_type": "code",
   "execution_count": null,
   "metadata": {},
   "outputs": [],
   "source": [
    "ps3 = 0.33\n",
    "pma5 = 1\n",
    "\n",
    "asc3_b2 = (ma5_b2*pma5)*ps3\n",
    "asc3_b2 #Dívida Técnica(Sqale)"
   ]
  },
  {
   "cell_type": "markdown",
   "metadata": {},
   "source": [
    "##### asc4"
   ]
  },
  {
   "cell_type": "code",
   "execution_count": null,
   "metadata": {},
   "outputs": [],
   "source": [
    "psc4 = 1\n",
    "pma6 = 0.5\n",
    "pma7 = 0.5\n",
    "\n",
    "asc4_b2 = ((ma6_b2*pma6) + (ma7_b2*pma7)) * psc4\n",
    "\n",
    "asc4_b2 #Maturidade"
   ]
  },
  {
   "cell_type": "markdown",
   "metadata": {},
   "source": [
    "##### asc5"
   ]
  },
  {
   "cell_type": "code",
   "execution_count": null,
   "metadata": {},
   "outputs": [],
   "source": [
    "psc5 = 1\n",
    "pma8 = 1\n",
    "\n",
    "asc5_b2 = ((ma8_b2*pma8)) * psc5\n",
    "\n",
    "asc5_b2 #Integridade"
   ]
  },
  {
   "cell_type": "markdown",
   "metadata": {},
   "source": [
    "##### asc6"
   ]
  },
  {
   "cell_type": "code",
   "execution_count": null,
   "metadata": {},
   "outputs": [],
   "source": [
    "psc6 = 0.5\n",
    "pma9 = 1\n",
    "\n",
    "asc6_b2 = ((ma9_b2*pma9)) * psc6\n",
    "\n",
    "asc6_b2 #Completude Funcional"
   ]
  },
  {
   "cell_type": "markdown",
   "metadata": {},
   "source": [
    "##### asc7"
   ]
  },
  {
   "cell_type": "code",
   "execution_count": null,
   "metadata": {},
   "outputs": [],
   "source": [
    "psc7 = 0.5\n",
    "pma10 = 1\n",
    "\n",
    "asc7_b2 = ((ma10_b2*pma10)) * psc7\n",
    "\n",
    "asc7_b2 #Corretude Funcional"
   ]
  },
  {
   "cell_type": "markdown",
   "metadata": {},
   "source": [
    "### Ponderação e Agregação na Característica"
   ]
  },
  {
   "cell_type": "markdown",
   "metadata": {},
   "source": [
    "##### ac1"
   ]
  },
  {
   "cell_type": "code",
   "execution_count": null,
   "metadata": {},
   "outputs": [],
   "source": [
    "pc1 = 0.2\n",
    "\n",
    "ac1_b2 = (asc1_b2 + asc2_b2 + asc3_b2)*pc1\n",
    "ac1_b2 #Manutenibilidade"
   ]
  },
  {
   "cell_type": "markdown",
   "metadata": {},
   "source": [
    "##### ac2"
   ]
  },
  {
   "cell_type": "code",
   "execution_count": null,
   "metadata": {},
   "outputs": [],
   "source": [
    "pc2 = 0.2\n",
    "\n",
    "ac2_b2 = asc4_b2 * pc2\n",
    "\n",
    "ac2_b2 #Confiabilidade"
   ]
  },
  {
   "cell_type": "markdown",
   "metadata": {},
   "source": [
    "##### ac3"
   ]
  },
  {
   "cell_type": "code",
   "execution_count": null,
   "metadata": {},
   "outputs": [],
   "source": [
    "pc3 = 0.2\n",
    "\n",
    "ac3_b2 = asc5_b2 * pc3\n",
    "\n",
    "ac3_b2 #Segurança"
   ]
  },
  {
   "cell_type": "markdown",
   "metadata": {},
   "source": [
    "##### ac4"
   ]
  },
  {
   "cell_type": "code",
   "execution_count": null,
   "metadata": {},
   "outputs": [],
   "source": [
    "pc4 = 0.4\n",
    "\n",
    "ac4_b2 = (asc6_b2 + asc6_b2) * pc4\n",
    "\n",
    "ac4_b2 #Segurança"
   ]
  },
  {
   "cell_type": "markdown",
   "metadata": {},
   "source": [
    "#### Front-end"
   ]
  },
  {
   "cell_type": "code",
   "execution_count": null,
   "metadata": {},
   "outputs": [],
   "source": [
    "front_r2 = json.load(open('../data/front_r2.json'))"
   ]
  },
  {
   "cell_type": "code",
   "execution_count": null,
   "metadata": {},
   "outputs": [],
   "source": [
    "front_r2_base_component = pd.DataFrame(front_r2['baseComponent']['measures'])"
   ]
  },
  {
   "cell_type": "code",
   "execution_count": null,
   "metadata": {
    "scrolled": false
   },
   "outputs": [],
   "source": [
    "front_r2_base_component"
   ]
  },
  {
   "cell_type": "code",
   "execution_count": null,
   "metadata": {},
   "outputs": [],
   "source": [
    "front_r2_path = []\n",
    "front_r2_qualifier = []\n",
    "front_r2_reliability_rating = []\n",
    "front_r2_complexity = []\n",
    "front_r2_functions = []\n",
    "front_r2_security_rating = []\n",
    "front_r2_comment_lines_density = []\n",
    "front_r2_sqale_rating = []\n",
    "front_r2_comment_lines = []\n",
    "front_r2_ncloc = []\n",
    "front_r2_files = []\n",
    "front_r2_open_issues = []\n",
    "front_r2_bugs = []\n",
    "front_r2_test_success_density = []\n",
    "front_r2_vulnerabilities = []\n",
    "front_r2_duplicated_lines_density = []\n",
    "front_r2_coverage = []\n",
    "\n",
    "\n",
    "\n",
    "for i in range(len(front_r2['components'])):\n",
    "    front_r2_path.append(front_r2['components'][i]['path'])\n",
    "    front_r2_qualifier.append(front_r2['components'][i]['qualifier'])\n",
    "    for j in range(len(front_r2['components'][i]['measures'])-1):\n",
    "        if front_r2['components'][i]['measures'][j]['metric'] == 'reliability_rating':\n",
    "            front_r2_reliability_rating.append(front_r2['components'][i]['measures'][j]['value'])\n",
    "        if front_r2['components'][i]['measures'][j]['metric'] == 'complexity':\n",
    "            front_r2_complexity.append(front_r2['components'][i]['measures'][j]['value'])\n",
    "        if front_r2['components'][i]['measures'][j]['metric'] == 'functions':\n",
    "            front_r2_functions.append(front_r2['components'][i]['measures'][j]['value'])\n",
    "        if front_r2['components'][i]['measures'][j]['metric'] == 'security_rating':\n",
    "            front_r2_security_rating.append(front_r2['components'][i]['measures'][j]['value'])\n",
    "        if front_r2['components'][i]['measures'][j]['metric'] == 'comment_lines_density':\n",
    "            front_r2_comment_lines_density.append(front_r2['components'][i]['measures'][j]['value'])\n",
    "        if front_r2['components'][i]['measures'][j]['metric'] == 'sqale_rating':\n",
    "            front_r2_sqale_rating.append(front_r2['components'][i]['measures'][j]['value'])\n",
    "        if front_r2['components'][i]['measures'][j]['metric'] == 'comment_lines':\n",
    "            front_r2_comment_lines.append(front_r2['components'][i]['measures'][j]['value'])\n",
    "        if front_r2['components'][i]['measures'][j]['metric'] == 'ncloc':\n",
    "            front_r2_ncloc.append(front_r2['components'][i]['measures'][j]['value'])\n",
    "        if front_r2['components'][i]['measures'][j]['metric'] == 'files':\n",
    "            front_r2_files.append(front_r2['components'][i]['measures'][j]['value'])\n",
    "        if front_r2['components'][i]['measures'][j]['metric'] == 'open_issues':\n",
    "            front_r2_open_issues.append(front_r2['components'][i]['measures'][j]['value'])\n",
    "        if front_r2['components'][i]['measures'][j]['metric'] == 'bugs':\n",
    "            front_r2_bugs.append(front_r2['components'][i]['measures'][j]['value'])\n",
    "        if front_r2['components'][i]['measures'][j]['metric'] == 'test_success_density':\n",
    "            front_r2_test_success_density.append(front_r2['components'][i]['measures'][j]['value'])\n",
    "        if front_r2['components'][i]['measures'][j]['metric'] == 'vulnerabilities':\n",
    "            front_r2_vulnerabilities.append(front_r2['components'][i]['measures'][j]['value'])\n",
    "        if front_r2['components'][i]['measures'][j]['metric'] == 'duplicated_lines_density':\n",
    "            front_r2_duplicated_lines_density.append(front_r2['components'][i]['measures'][j]['value'])\n",
    "        if front_r2['components'][i]['measures'][j]['metric'] == 'coverage':\n",
    "            front_r2_coverage.append(front_r2['components'][i]['measures'][j]['value'])\n",
    "        \n",
    "front_r2_df = [front_r2_path,\n",
    "              front_r2_qualifier,\n",
    "              front_r2_reliability_rating,\n",
    "              front_r2_complexity,\n",
    "              front_r2_functions,\n",
    "              front_r2_security_rating,\n",
    "              front_r2_comment_lines_density,\n",
    "              front_r2_sqale_rating,\n",
    "              front_r2_comment_lines,\n",
    "              front_r2_ncloc,\n",
    "              front_r2_files,\n",
    "              front_r2_open_issues,\n",
    "              front_r2_bugs,\n",
    "              front_r2_test_success_density,\n",
    "              front_r2_vulnerabilities,\n",
    "              front_r2_duplicated_lines_density,\n",
    "              front_r2_coverage]"
   ]
  },
  {
   "cell_type": "code",
   "execution_count": null,
   "metadata": {},
   "outputs": [],
   "source": [
    "front_r2_df = pd.DataFrame(front_r2_df).T\n",
    "front_r2_df.columns = col_r2\n",
    "front_r2_df"
   ]
  },
  {
   "cell_type": "code",
   "execution_count": null,
   "metadata": {
    "scrolled": false
   },
   "outputs": [],
   "source": [
    "front_r2_df = front_r2_df[front_r2_df['qualifier'] == 'FIL'].reset_index(drop=True)\n",
    "front_r2_df"
   ]
  },
  {
   "cell_type": "markdown",
   "metadata": {},
   "source": [
    "### Função de Interpretação e Normalização (fórmulas)"
   ]
  },
  {
   "cell_type": "markdown",
   "metadata": {},
   "source": [
    "##### ma1"
   ]
  },
  {
   "cell_type": "code",
   "execution_count": null,
   "metadata": {},
   "outputs": [],
   "source": [
    "complexity_notnull = front_r2_df['complexity'][pd.notnull(front_r2_df['complexity'])]\n",
    "median_complexity = np.median(complexity_notnull.astype(float))\n",
    "median_complexity"
   ]
  },
  {
   "cell_type": "code",
   "execution_count": null,
   "metadata": {},
   "outputs": [],
   "source": [
    "complexity = front_r2_df[['complexity', 'functions']][(front_r2_df['complexity'].astype(float) <= median_complexity) & (front_r2_df['functions'].astype(float) > 0) ]\n",
    "complexity"
   ]
  },
  {
   "cell_type": "code",
   "execution_count": null,
   "metadata": {},
   "outputs": [],
   "source": [
    "\n",
    "fi1 = 0\n",
    "\n",
    "x = np.array([0, median_complexity])\n",
    "y = np.array([1, 0])\n",
    "\n",
    "for i in range(len(complexity)):\n",
    "    fi1 += (np.interp(float(complexity['complexity'].iloc[i])/float(complexity['functions'].iloc[i]), x, y))\n",
    "\n",
    "ma1_f2 = fi1/float(len(front_r2_df['complexity']))\n",
    "\n",
    "ma1_f2"
   ]
  },
  {
   "cell_type": "markdown",
   "metadata": {},
   "source": [
    "##### ma2"
   ]
  },
  {
   "cell_type": "code",
   "execution_count": null,
   "metadata": {},
   "outputs": [],
   "source": [
    "# m4 = 4.7\n",
    "\n",
    "ma2_f2 = 0 \n",
    "\n",
    "ma2_f2"
   ]
  },
  {
   "cell_type": "markdown",
   "metadata": {},
   "source": [
    "##### ma3"
   ]
  },
  {
   "cell_type": "code",
   "execution_count": null,
   "metadata": {},
   "outputs": [],
   "source": [
    "# m5 = 4.3\n",
    "\n",
    "ma3_f2 = 0 \n",
    "\n",
    "ma3_f2"
   ]
  },
  {
   "cell_type": "markdown",
   "metadata": {},
   "source": [
    "##### ma4"
   ]
  },
  {
   "cell_type": "code",
   "execution_count": null,
   "metadata": {},
   "outputs": [],
   "source": [
    "# m6 = 41.1\n",
    "\n",
    "ma4_f2 = 0 \n",
    "\n",
    "ma4_f2"
   ]
  },
  {
   "cell_type": "markdown",
   "metadata": {},
   "source": [
    "##### ma5"
   ]
  },
  {
   "cell_type": "code",
   "execution_count": null,
   "metadata": {},
   "outputs": [],
   "source": [
    "# m7 = 1\n",
    "\n",
    "ma5_f2 = 0 \n",
    "\n",
    "ma5_f2"
   ]
  },
  {
   "cell_type": "markdown",
   "metadata": {},
   "source": [
    "##### ma6"
   ]
  },
  {
   "cell_type": "code",
   "execution_count": null,
   "metadata": {},
   "outputs": [],
   "source": [
    "#m8 = 100\n",
    "\n",
    "ma6_f2 = 0\n",
    "\n",
    "ma6_f2"
   ]
  },
  {
   "cell_type": "markdown",
   "metadata": {},
   "source": [
    "##### ma7"
   ]
  },
  {
   "cell_type": "code",
   "execution_count": null,
   "metadata": {},
   "outputs": [],
   "source": [
    "x = np.array([0.0, 0.1])\n",
    "y = np.array([1, 0])\n",
    "\n",
    "# ma7_f2 = np.interp((float(front_r2_base_component['value'].iloc[4])), x, y)/float(front_r2_base_component['value'].iloc[12])\n",
    "\n",
    "ma7_f2 = 0\n",
    "ma7_f2"
   ]
  },
  {
   "cell_type": "markdown",
   "metadata": {},
   "source": [
    "##### ma8"
   ]
  },
  {
   "cell_type": "code",
   "execution_count": null,
   "metadata": {},
   "outputs": [],
   "source": [
    "x = np.array([0.0, 0.15])\n",
    "y = np.array([1, 0])\n",
    "\n",
    "#ma8_f2 = np.interp((float(front_r1_base_component['value'].iloc[10])), x, y)/float(front_r1_base_component['value'].iloc[12])\n",
    "\n",
    "ma8_f2 = 0\n",
    "ma8_f2"
   ]
  },
  {
   "cell_type": "markdown",
   "metadata": {},
   "source": [
    "##### ma9"
   ]
  },
  {
   "cell_type": "code",
   "execution_count": null,
   "metadata": {},
   "outputs": [],
   "source": [
    "m14 = m15 = 15 # total de histórias de usuário // aceitas\n",
    "\n",
    "x = np.array([0.25, 0.1])\n",
    "y = np.array([1, 0])\n",
    "\n",
    "ma9_f2 = np.interp(float(m15), x, y)/m14\n",
    "\n",
    "ma9_f2"
   ]
  },
  {
   "cell_type": "markdown",
   "metadata": {},
   "source": [
    "##### ma10"
   ]
  },
  {
   "cell_type": "code",
   "execution_count": null,
   "metadata": {},
   "outputs": [],
   "source": [
    "TOTAL_CRIT_ACEIT_FRONT_R2 = 27\n",
    "TOTAL_CRIT_ACEIT_ATEND_FRONT_R2 = 19\n",
    "\n",
    "m16 = TOTAL_CRIT_ACEIT_FRONT_R2 / m14 # TOTAL DE CRITEIROS DE ACEITACAO POR HISTORIA\n",
    "m17 = TOTAL_CRIT_ACEIT_ATEND_FRONT_R2 / m14 # TOTAL DE CRITEIROS DE ACEITACAO POR HISTORIA ATENDIDAS\n",
    "\n",
    "x = np.array([0.5, 1])\n",
    "y = np.array([1, 0])\n",
    "\n",
    "ma10_f2 = np.interp((m17/m16), x, y)/m14\n",
    "\n",
    "ma10_f2"
   ]
  },
  {
   "cell_type": "markdown",
   "metadata": {},
   "source": [
    "### Ponderação e Agregação na SubCaracterística"
   ]
  },
  {
   "cell_type": "markdown",
   "metadata": {},
   "source": [
    "##### asc1"
   ]
  },
  {
   "cell_type": "code",
   "execution_count": null,
   "metadata": {},
   "outputs": [],
   "source": [
    "psc1 = 0.33\n",
    "pma1 = 0.33\n",
    "pma2 = 0.33\n",
    "pma3 = 0.33\n",
    "\n",
    "asc1_f2 = ((ma1_f2*pma1)+(ma2_f2*pma2)+(ma3_f2*pma3))*psc1\n",
    "asc1_f2 #Modificabilidade"
   ]
  },
  {
   "cell_type": "markdown",
   "metadata": {},
   "source": [
    "##### asc2"
   ]
  },
  {
   "cell_type": "code",
   "execution_count": null,
   "metadata": {},
   "outputs": [],
   "source": [
    "psc2 = 0.33\n",
    "pma4 = 1\n",
    "\n",
    "asc2_f2 = (ma4_f2*pma4)*psc2\n",
    "asc2_f2 #Testabilidade"
   ]
  },
  {
   "cell_type": "markdown",
   "metadata": {},
   "source": [
    "##### asc3"
   ]
  },
  {
   "cell_type": "code",
   "execution_count": null,
   "metadata": {},
   "outputs": [],
   "source": [
    "ps3 = 0.33\n",
    "pma5 = 1\n",
    "\n",
    "asc3_f2 = (ma5_f2*pma5)*ps3\n",
    "asc3_f2 #Dívida Técnica(Sqale)"
   ]
  },
  {
   "cell_type": "markdown",
   "metadata": {},
   "source": [
    "##### asc4"
   ]
  },
  {
   "cell_type": "code",
   "execution_count": null,
   "metadata": {},
   "outputs": [],
   "source": [
    "psc4 = 1\n",
    "pma6 = 0.5\n",
    "pma7 = 0.5\n",
    "\n",
    "asc4_f2 = ((ma6_f2*pma6) + (ma7_f2*pma7)) * psc4\n",
    "\n",
    "asc4_f2 #Maturidade"
   ]
  },
  {
   "cell_type": "markdown",
   "metadata": {},
   "source": [
    "##### asc5"
   ]
  },
  {
   "cell_type": "code",
   "execution_count": null,
   "metadata": {},
   "outputs": [],
   "source": [
    "psc5 = 1\n",
    "pma8 = 1\n",
    "\n",
    "asc5_f2 = ((ma8_f2*pma8)) * psc5\n",
    "\n",
    "asc5_f2 #Integridade"
   ]
  },
  {
   "cell_type": "markdown",
   "metadata": {},
   "source": [
    "##### asc6"
   ]
  },
  {
   "cell_type": "code",
   "execution_count": null,
   "metadata": {},
   "outputs": [],
   "source": [
    "psc6 = 0.5\n",
    "pma9 = 1\n",
    "\n",
    "asc6_f2 = ((ma9_f2*pma9)) * psc6\n",
    "\n",
    "asc6_f2 #Completude Funcional"
   ]
  },
  {
   "cell_type": "markdown",
   "metadata": {},
   "source": [
    "##### asc7"
   ]
  },
  {
   "cell_type": "code",
   "execution_count": null,
   "metadata": {},
   "outputs": [],
   "source": [
    "psc7 = 0.5\n",
    "pma10 = 1\n",
    "\n",
    "asc7_f2 = ((ma10_f2*pma10)) * psc7\n",
    "\n",
    "asc7_f2 #Corretude Funcional"
   ]
  },
  {
   "cell_type": "markdown",
   "metadata": {},
   "source": [
    "### Ponderação e Agregação na Característica"
   ]
  },
  {
   "cell_type": "markdown",
   "metadata": {},
   "source": [
    "##### ac1"
   ]
  },
  {
   "cell_type": "code",
   "execution_count": null,
   "metadata": {},
   "outputs": [],
   "source": [
    "pc1 = 0.2\n",
    "\n",
    "ac1_f2 = (asc1_f2 + asc2_f2 + asc3_f2)*pc1\n",
    "ac1_f2 #Manutenibilidade"
   ]
  },
  {
   "cell_type": "markdown",
   "metadata": {},
   "source": [
    "##### ac2"
   ]
  },
  {
   "cell_type": "code",
   "execution_count": null,
   "metadata": {},
   "outputs": [],
   "source": [
    "pc2 = 0.2\n",
    "\n",
    "ac2_f2 = asc4_f2 * pc2\n",
    "\n",
    "ac2_f2 #Confiabilidade"
   ]
  },
  {
   "cell_type": "markdown",
   "metadata": {},
   "source": [
    "##### ac3"
   ]
  },
  {
   "cell_type": "code",
   "execution_count": null,
   "metadata": {},
   "outputs": [],
   "source": [
    "pc3 = 0.2\n",
    "\n",
    "ac3_f2 = asc5_f2 * pc3\n",
    "\n",
    "ac3_f2 #Segurança"
   ]
  },
  {
   "cell_type": "markdown",
   "metadata": {},
   "source": [
    "##### ac4"
   ]
  },
  {
   "cell_type": "code",
   "execution_count": null,
   "metadata": {},
   "outputs": [],
   "source": [
    "pc4 = 0.4\n",
    "\n",
    "ac4_f2 = (asc6_f2 + asc6_f2) * pc4\n",
    "\n",
    "ac4_f2 #Segurança"
   ]
  },
  {
   "cell_type": "markdown",
   "metadata": {},
   "source": [
    "## Result DataFrames"
   ]
  },
  {
   "cell_type": "markdown",
   "metadata": {},
   "source": [
    "### ma"
   ]
  },
  {
   "cell_type": "code",
   "execution_count": null,
   "metadata": {},
   "outputs": [],
   "source": [
    "ma_b1 = [ma1_b1,ma2_b1,ma3_b1,ma4_b1,ma5_b1,ma6_b1,ma7_b1,ma8_b1,ma9_b1,ma10_b1]\n",
    "ma_f1 = [ma1_f1,ma2_f1,ma3_f1,ma4_f1,ma5_f1,ma6_f1,ma7_f1,ma8_f1,ma9_f1,ma10_f1]\n",
    "ma_b2 = [ma1_b2,ma2_b2,ma3_b2,ma4_b2,ma5_b2,ma6_b2,ma7_b2,ma8_b2,ma9_b2,ma10_b2]\n",
    "ma_f2 = [ma1_f2,ma2_f2,ma3_f2,ma4_f2,ma5_f2,ma6_f2,ma7_f2,ma8_f2,ma9_f2,ma10_f2]"
   ]
  },
  {
   "cell_type": "code",
   "execution_count": null,
   "metadata": {},
   "outputs": [],
   "source": [
    "ma = pd.DataFrame([ma_b1, ma_f1, ma_b2, ma_f2]).T\n",
    "ma.columns = ['ma_back_r1','ma_front_r1','ma_back_r2','ma_front_r2']"
   ]
  },
  {
   "cell_type": "code",
   "execution_count": null,
   "metadata": {},
   "outputs": [],
   "source": [
    "ma"
   ]
  },
  {
   "cell_type": "markdown",
   "metadata": {},
   "source": [
    "### asc"
   ]
  },
  {
   "cell_type": "code",
   "execution_count": null,
   "metadata": {},
   "outputs": [],
   "source": [
    "asc_b1 = [asc1_b1,asc2_b1,asc3_b1,asc4_b1,asc5_b1,asc6_b1,asc7_b1]\n",
    "asc_f1 = [asc1_f1,asc2_f1,asc3_f1,asc4_f1,asc5_f1,asc6_f1,asc7_f1]\n",
    "asc_b2 = [asc1_b2,asc2_b2,asc3_b2,asc4_b2,asc5_b2,asc6_b2,asc7_b2]\n",
    "asc_f2 = [asc1_f2,asc2_f2,asc3_f2,asc4_f2,asc5_f2,asc6_f2,asc7_f2]"
   ]
  },
  {
   "cell_type": "code",
   "execution_count": null,
   "metadata": {},
   "outputs": [],
   "source": [
    "asc = pd.DataFrame([asc_b1, asc_f1, asc_b2, asc_f2]).T\n",
    "asc.columns = ['asc_back_r1','asc_front_r1','asc_back_r2','asc_front_r2']"
   ]
  },
  {
   "cell_type": "code",
   "execution_count": null,
   "metadata": {},
   "outputs": [],
   "source": [
    "asc"
   ]
  },
  {
   "cell_type": "markdown",
   "metadata": {},
   "source": [
    "### ac"
   ]
  },
  {
   "cell_type": "code",
   "execution_count": null,
   "metadata": {},
   "outputs": [],
   "source": [
    "ac_b1 = [ac1_b1,ac2_b1,ac3_b1,ac4_b1]\n",
    "ac_f1 = [ac1_f1,ac2_f1,ac3_f1,ac4_f1]\n",
    "ac_b2 = [ac1_b2,ac2_b2,ac3_b2,ac4_b2]\n",
    "ac_f2 = [ac1_f2,ac2_f2,ac3_f2,ac4_f2]"
   ]
  },
  {
   "cell_type": "code",
   "execution_count": null,
   "metadata": {},
   "outputs": [],
   "source": [
    "ac = pd.DataFrame([ac_b1, ac_f1, ac_b2, ac_f2]).T\n",
    "ac.columns = ['ac_back_r1','ac_front_r1','ac_back_r2','ac_front_r2']"
   ]
  },
  {
   "cell_type": "code",
   "execution_count": null,
   "metadata": {
    "scrolled": true
   },
   "outputs": [],
   "source": [
    "ac"
   ]
  },
  {
   "cell_type": "markdown",
   "metadata": {},
   "source": [
    "## Analysis"
   ]
  },
  {
   "cell_type": "code",
   "execution_count": null,
   "metadata": {},
   "outputs": [],
   "source": []
  },
  {
   "cell_type": "code",
   "execution_count": null,
   "metadata": {},
   "outputs": [],
   "source": []
  },
  {
   "cell_type": "code",
   "execution_count": null,
   "metadata": {},
   "outputs": [],
   "source": []
  },
  {
   "cell_type": "code",
   "execution_count": null,
   "metadata": {},
   "outputs": [],
   "source": []
  },
  {
   "cell_type": "code",
   "execution_count": null,
   "metadata": {},
   "outputs": [],
   "source": []
  }
 ],
 "metadata": {
  "kernelspec": {
   "display_name": "Python 3",
   "language": "python",
   "name": "python3"
  },
  "language_info": {
   "codemirror_mode": {
    "name": "ipython",
    "version": 3
   },
   "file_extension": ".py",
   "mimetype": "text/x-python",
   "name": "python",
   "nbconvert_exporter": "python",
   "pygments_lexer": "ipython3",
   "version": "3.6.9"
  }
 },
 "nbformat": 4,
 "nbformat_minor": 4
}